{
 "cells": [
  {
   "cell_type": "code",
   "execution_count": 1,
   "metadata": {},
   "outputs": [],
   "source": [
    "import matplotlib.pyplot as plt\n",
    "import numpy as np\n",
    "from tqdm.notebook import tqdm as tq # produce the progress bar"
   ]
  },
  {
   "cell_type": "code",
   "execution_count": 2,
   "metadata": {},
   "outputs": [],
   "source": [
    "N = np.array([50, 100, 500, 1000, 3000, 5000, 10000])"
   ]
  },
  {
   "cell_type": "code",
   "execution_count": null,
   "metadata": {},
   "outputs": [],
   "source": [
    "list_time_reshape = []\n",
    "list_time_newaxis = []\n",
    "for Ni in tq(N):\n",
    "    vector = np.ones(Ni)\n",
    "    # reshape\n",
    "    time = %timeit -o np.reshape(vector, (Ni,1))\n",
    "    list_time_reshape.append(time.average)\n",
    "    # newaxis\n",
    "    time = %timeit -o vector[:,np.newaxis]\n",
    "    list_time_newaxis.append(time.average)"
   ]
  },
  {
   "cell_type": "code",
   "execution_count": null,
   "metadata": {},
   "outputs": [],
   "source": [
    "plt.figure(figsize=(10,7))\n",
    "plt.plot(N, np.asarray(list_time_reshape)*1e6, 'bo-', label = 'reshape')\n",
    "plt.plot(N, np.asarray(list_time_newaxis)*1e6, 'ro-', label = 'newaxis')\n",
    "plt.legend(loc = 'best', fontsize = 14)\n",
    "plt.xticks(fontsize = 12)\n",
    "plt.yticks(fontsize = 12)\n",
    "plt.xlabel('N', fontsize = 16)\n",
    "plt.ylabel('Time ($\\mu$s)', fontsize = 16)\n",
    "plt.yscale('log')\n",
    "plt.grid()\n",
    "plt.show()"
   ]
  },
  {
   "cell_type": "code",
   "execution_count": null,
   "metadata": {},
   "outputs": [],
   "source": []
  }
 ],
 "metadata": {
  "kernelspec": {
   "display_name": "Python 3",
   "language": "python",
   "name": "python3"
  },
  "language_info": {
   "codemirror_mode": {
    "name": "ipython",
    "version": 3
   },
   "file_extension": ".py",
   "mimetype": "text/x-python",
   "name": "python",
   "nbconvert_exporter": "python",
   "pygments_lexer": "ipython3",
   "version": "3.7.7"
  }
 },
 "nbformat": 4,
 "nbformat_minor": 4
}
