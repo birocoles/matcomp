{
 "cells": [
  {
   "cell_type": "code",
   "execution_count": 1,
   "id": "facial-lexington",
   "metadata": {},
   "outputs": [],
   "source": [
    "import numpy as np\n",
    "import matplotlib as mpl\n",
    "import matplotlib.pyplot as plt\n",
    "from copy import copy"
   ]
  },
  {
   "cell_type": "code",
   "execution_count": 2,
   "id": "consistent-retirement",
   "metadata": {},
   "outputs": [],
   "source": [
    "#np.set_printoptions(precision=3)\n",
    "np.set_printoptions(suppress=True)"
   ]
  },
  {
   "cell_type": "code",
   "execution_count": 3,
   "id": "specific-tracker",
   "metadata": {},
   "outputs": [],
   "source": [
    "import matcomp_algorithms as mca"
   ]
  },
  {
   "cell_type": "code",
   "execution_count": 4,
   "id": "ddd9a2ff",
   "metadata": {},
   "outputs": [],
   "source": [
    "np.random.seed(18)\n",
    "N = 7\n",
    "A = np.random.rand(N,N)# + np.identity(N)\n",
    "#A = A.T + A\n",
    "H = A.copy()"
   ]
  },
  {
   "cell_type": "code",
   "execution_count": 5,
   "id": "14640ec7",
   "metadata": {},
   "outputs": [],
   "source": [
    "mca.upper_Hessen_House(H)"
   ]
  },
  {
   "cell_type": "code",
   "execution_count": 6,
   "id": "9de48c19",
   "metadata": {},
   "outputs": [],
   "source": [
    "U0 = mca.U0_from_upper_Hessen_House(H)"
   ]
  },
  {
   "cell_type": "code",
   "execution_count": 7,
   "id": "eb4a56aa",
   "metadata": {},
   "outputs": [],
   "source": [
    "H = np.triu(H, k=-1)"
   ]
  },
  {
   "cell_type": "code",
   "execution_count": 8,
   "id": "44d1029a",
   "metadata": {},
   "outputs": [],
   "source": [
    "A_retrieved = np.linalg.multi_dot([U0, H, U0.T])"
   ]
  },
  {
   "cell_type": "code",
   "execution_count": 9,
   "id": "structural-algeria",
   "metadata": {},
   "outputs": [
    {
     "data": {
      "text/plain": [
       "True"
      ]
     },
     "execution_count": 9,
     "metadata": {},
     "output_type": "execute_result"
    }
   ],
   "source": [
    "np.allclose(A, A_retrieved)"
   ]
  },
  {
   "cell_type": "code",
   "execution_count": 10,
   "id": "informative-description",
   "metadata": {},
   "outputs": [
    {
     "data": {
      "image/png": "[encoded data removed]",
      "text/plain": [
       "<Figure size 1080x288 with 6 Axes>"
      ]
     },
     "metadata": {
      "needs_background": "light"
     },
     "output_type": "display_data"
    }
   ],
   "source": [
    "tol = 1e-15\n",
    "\n",
    "cmap = copy(mpl.cm.get_cmap(\"hsv\"))\n",
    "cmap.set_bad(color='black')\n",
    "\n",
    "plt.figure(figsize=(15,4))\n",
    "\n",
    "plt.subplot(131)\n",
    "A_masked = np.ma.masked_where(np.abs(A) < tol, A)\n",
    "plt.matshow(A_masked, fignum=0, cmap=cmap)\n",
    "plt.colorbar()\n",
    "\n",
    "plt.subplot(132)\n",
    "H_masked = np.ma.masked_where(np.abs(H) < tol, H)\n",
    "plt.matshow(H_masked, fignum=0, cmap=cmap)\n",
    "plt.colorbar()\n",
    "\n",
    "plt.subplot(133)\n",
    "A_retrieved_masked = np.ma.masked_where(np.abs(A_retrieved) < tol, A_retrieved)\n",
    "plt.matshow(A_retrieved_masked, fignum=0, cmap=cmap)\n",
    "plt.colorbar()\n",
    "\n",
    "plt.tight_layout()\n",
    "plt.show()"
   ]
  },
  {
   "cell_type": "code",
   "execution_count": 11,
   "id": "configured-given",
   "metadata": {},
   "outputs": [],
   "source": [
    "R = H.copy()"
   ]
  },
  {
   "cell_type": "code",
   "execution_count": 12,
   "id": "d3ab606b",
   "metadata": {},
   "outputs": [],
   "source": [
    "mca.QR_Givens(R)\n",
    "#mca.QR_House(R)"
   ]
  },
  {
   "cell_type": "code",
   "execution_count": 13,
   "id": "32e3ec56",
   "metadata": {},
   "outputs": [],
   "source": [
    "Q = mca.Q_from_QR_Givens(R)\n",
    "#Q = mca.Q_from_QR_House(R)"
   ]
  },
  {
   "cell_type": "code",
   "execution_count": 14,
   "id": "bf039816",
   "metadata": {},
   "outputs": [],
   "source": [
    "R = np.triu(R)"
   ]
  },
  {
   "cell_type": "code",
   "execution_count": 15,
   "id": "fd2b64f4",
   "metadata": {},
   "outputs": [],
   "source": [
    "H_retrieved = Q@R"
   ]
  },
  {
   "cell_type": "code",
   "execution_count": 16,
   "id": "916362cb",
   "metadata": {},
   "outputs": [
    {
     "data": {
      "text/plain": [
       "True"
      ]
     },
     "execution_count": 16,
     "metadata": {},
     "output_type": "execute_result"
    }
   ],
   "source": [
    "np.allclose(H, H_retrieved)"
   ]
  },
  {
   "cell_type": "code",
   "execution_count": 17,
   "id": "60a374d1",
   "metadata": {},
   "outputs": [
    {
     "data": {
      "image/png": "[encoded data removed]",
      "text/plain": [
       "<Figure size 1080x288 with 6 Axes>"
      ]
     },
     "metadata": {
      "needs_background": "light"
     },
     "output_type": "display_data"
    }
   ],
   "source": [
    "tol = 1e-15\n",
    "\n",
    "cmap = copy(mpl.cm.get_cmap(\"hsv\"))\n",
    "cmap.set_bad(color='black')\n",
    "\n",
    "plt.figure(figsize=(15,4))\n",
    "\n",
    "plt.subplot(131)\n",
    "H_masked = np.ma.masked_where(np.abs(H) < tol, H)\n",
    "plt.matshow(H_masked, fignum=0, cmap=cmap)\n",
    "plt.colorbar()\n",
    "\n",
    "plt.subplot(132)\n",
    "H_retrieved_masked = np.ma.masked_where(np.abs(H_retrieved) < tol, H_retrieved)\n",
    "plt.matshow(H_retrieved_masked, fignum=0, cmap=cmap)\n",
    "plt.colorbar()\n",
    "\n",
    "plt.subplot(133)\n",
    "R_masked = np.ma.masked_where(np.abs(R) < tol, R)\n",
    "plt.matshow(R_masked, fignum=0, cmap=cmap)\n",
    "plt.colorbar()\n",
    "\n",
    "plt.tight_layout()\n",
    "plt.show()"
   ]
  },
  {
   "cell_type": "code",
   "execution_count": 18,
   "id": "c89f69c7",
   "metadata": {},
   "outputs": [],
   "source": [
    "H_plus = H.copy()"
   ]
  },
  {
   "cell_type": "code",
   "execution_count": 19,
   "id": "24e09917",
   "metadata": {},
   "outputs": [],
   "source": [
    "mca.H_plus_RQ(H_plus)"
   ]
  },
  {
   "cell_type": "code",
   "execution_count": 20,
   "id": "dbb6cfe5",
   "metadata": {},
   "outputs": [
    {
     "data": {
      "text/plain": [
       "True"
      ]
     },
     "execution_count": 20,
     "metadata": {},
     "output_type": "execute_result"
    }
   ],
   "source": [
    "np.allclose(H_plus, R@Q)"
   ]
  },
  {
   "cell_type": "code",
   "execution_count": null,
   "id": "4a02914c",
   "metadata": {},
   "outputs": [],
   "source": []
  }
 ],
 "metadata": {
  "kernelspec": {
   "display_name": "Python 3",
   "language": "python",
   "name": "python3"
  },
  "language_info": {
   "codemirror_mode": {
    "name": "ipython",
    "version": 3
   },
   "file_extension": ".py",
   "mimetype": "text/x-python",
   "name": "python",
   "nbconvert_exporter": "python",
   "pygments_lexer": "ipython3",
   "version": "3.7.7"
  }
 },
 "nbformat": 4,
 "nbformat_minor": 5
}
