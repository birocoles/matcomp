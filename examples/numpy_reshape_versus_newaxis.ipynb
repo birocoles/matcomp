{
 "cells": [
  {
   "cell_type": "code",
   "execution_count": 1,
   "metadata": {},
   "outputs": [],
   "source": [
    "import matplotlib.pyplot as plt\n",
    "import numpy as np\n",
    "from tqdm.notebook import tqdm as tq # produce the progress bar"
   ]
  },
  {
   "cell_type": "code",
   "execution_count": 5,
   "metadata": {},
   "outputs": [],
   "source": [
    "vector = np.ones(10)"
   ]
  },
  {
   "cell_type": "code",
   "execution_count": 6,
   "metadata": {},
   "outputs": [
    {
     "data": {
      "text/plain": [
       "array([[1.],\n",
       "       [1.],\n",
       "       [1.],\n",
       "       [1.],\n",
       "       [1.],\n",
       "       [1.],\n",
       "       [1.],\n",
       "       [1.],\n",
       "       [1.],\n",
       "       [1.]])"
      ]
     },
     "execution_count": 6,
     "metadata": {},
     "output_type": "execute_result"
    }
   ],
   "source": [
    "np.reshape(vector, (10,1))"
   ]
  },
  {
   "cell_type": "code",
   "execution_count": 7,
   "metadata": {},
   "outputs": [
    {
     "data": {
      "text/plain": [
       "array([[1.],\n",
       "       [1.],\n",
       "       [1.],\n",
       "       [1.],\n",
       "       [1.],\n",
       "       [1.],\n",
       "       [1.],\n",
       "       [1.],\n",
       "       [1.],\n",
       "       [1.]])"
      ]
     },
     "execution_count": 7,
     "metadata": {},
     "output_type": "execute_result"
    }
   ],
   "source": [
    "vector[:,np.newaxis]"
   ]
  },
  {
   "cell_type": "code",
   "execution_count": 2,
   "metadata": {},
   "outputs": [],
   "source": [
    "N = np.array([50, 100, 500, 1000, 3000, 5000, 10000])"
   ]
  },
  {
   "cell_type": "code",
   "execution_count": 3,
   "metadata": {},
   "outputs": [
    {
     "data": {
      "application/vnd.jupyter.widget-view+json": {
       "model_id": "37506e6c5e0a4954ac20d6cae87e8817",
       "version_major": 2,
       "version_minor": 0
      },
      "text/plain": [
       "HBox(children=(FloatProgress(value=0.0, max=7.0), HTML(value='')))"
      ]
     },
     "metadata": {},
     "output_type": "display_data"
    },
    {
     "name": "stdout",
     "output_type": "stream",
     "text": [
      "2.1 µs ± 39.5 ns per loop (mean ± std. dev. of 7 runs, 100000 loops each)\n",
      "253 ns ± 6.46 ns per loop (mean ± std. dev. of 7 runs, 1000000 loops each)\n",
      "2.11 µs ± 50.5 ns per loop (mean ± std. dev. of 7 runs, 100000 loops each)\n",
      "252 ns ± 6.91 ns per loop (mean ± std. dev. of 7 runs, 1000000 loops each)\n",
      "2.16 µs ± 50.8 ns per loop (mean ± std. dev. of 7 runs, 100000 loops each)\n",
      "251 ns ± 8.48 ns per loop (mean ± std. dev. of 7 runs, 1000000 loops each)\n",
      "2.17 µs ± 60.1 ns per loop (mean ± std. dev. of 7 runs, 100000 loops each)\n",
      "252 ns ± 8.11 ns per loop (mean ± std. dev. of 7 runs, 1000000 loops each)\n",
      "2.15 µs ± 49.4 ns per loop (mean ± std. dev. of 7 runs, 100000 loops each)\n",
      "250 ns ± 6.84 ns per loop (mean ± std. dev. of 7 runs, 1000000 loops each)\n",
      "2.17 µs ± 69.6 ns per loop (mean ± std. dev. of 7 runs, 100000 loops each)\n",
      "252 ns ± 6.23 ns per loop (mean ± std. dev. of 7 runs, 1000000 loops each)\n",
      "2.18 µs ± 54.8 ns per loop (mean ± std. dev. of 7 runs, 100000 loops each)\n",
      "254 ns ± 18 ns per loop (mean ± std. dev. of 7 runs, 1000000 loops each)\n",
      "\n"
     ]
    }
   ],
   "source": [
    "list_time_reshape = []\n",
    "list_time_newaxis = []\n",
    "for Ni in tq(N):\n",
    "    vector = np.ones(Ni)\n",
    "    # reshape\n",
    "    time = %timeit -o np.reshape(vector, (Ni,1))\n",
    "    list_time_reshape.append(time.average)\n",
    "    # newaxis\n",
    "    time = %timeit -o vector[:,np.newaxis]\n",
    "    list_time_newaxis.append(time.average)"
   ]
  },
  {
   "cell_type": "code",
   "execution_count": 4,
   "metadata": {},
   "outputs": [
    {
     "data": {
      "image/png": "[encoded data removed]",
      "text/plain": [
       "<Figure size 720x504 with 1 Axes>"
      ]
     },
     "metadata": {
      "needs_background": "light"
     },
     "output_type": "display_data"
    }
   ],
   "source": [
    "plt.figure(figsize=(10,7))\n",
    "plt.plot(N, np.asarray(list_time_reshape)*1e6, 'bo-', label = 'reshape')\n",
    "plt.plot(N, np.asarray(list_time_newaxis)*1e6, 'ro-', label = 'newaxis')\n",
    "plt.legend(loc = 'best', fontsize = 14)\n",
    "plt.xticks(fontsize = 12)\n",
    "plt.yticks(fontsize = 12)\n",
    "plt.xlabel('N', fontsize = 16)\n",
    "plt.ylabel('Time ($\\mu$s)', fontsize = 16)\n",
    "plt.yscale('log')\n",
    "plt.grid()\n",
    "plt.show()"
   ]
  },
  {
   "cell_type": "code",
   "execution_count": null,
   "metadata": {},
   "outputs": [],
   "source": []
  }
 ],
 "metadata": {
  "kernelspec": {
   "display_name": "Python 3 (ipykernel)",
   "language": "python",
   "name": "python3"
  },
  "language_info": {
   "codemirror_mode": {
    "name": "ipython",
    "version": 3
   },
   "file_extension": ".py",
   "mimetype": "text/x-python",
   "name": "python",
   "nbconvert_exporter": "python",
   "pygments_lexer": "ipython3",
   "version": "3.7.7"
  }
 },
 "nbformat": 4,
 "nbformat_minor": 4
}
