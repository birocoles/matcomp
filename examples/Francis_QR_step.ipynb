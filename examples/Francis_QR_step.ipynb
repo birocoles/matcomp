{
 "cells": [
  {
   "cell_type": "markdown",
   "metadata": {},
   "source": [
    "# Francis QR step"
   ]
  },
  {
   "cell_type": "markdown",
   "metadata": {},
   "source": [
    "### References\n",
    "\n",
    "* Lawson, C. L,. and Hanson, R. J. (1995). Solving least squares problems. SIAM, ISBN 0-89871-356-0\n",
    "\n",
    "* Golub, G. H. and C. F. Van Loan, (2013), Matrix computations, 4th edition, Johns Hopkins University Press, ISBN 978-1-4214-0794-4."
   ]
  },
  {
   "cell_type": "code",
   "execution_count": 1,
   "metadata": {},
   "outputs": [],
   "source": [
    "import numpy as np\n",
    "import matplotlib.pyplot as plt"
   ]
  },
  {
   "cell_type": "code",
   "execution_count": 2,
   "metadata": {},
   "outputs": [],
   "source": [
    "from matcomp import plot_functions as plf\n",
    "from matcomp import algorithms as mca\n",
    "np.set_printoptions(precision=3, suppress=True)\n",
    "#np.set_printoptions(suppress=True)"
   ]
  },
  {
   "cell_type": "markdown",
   "metadata": {},
   "source": [
    "### Definition"
   ]
  },
  {
   "cell_type": "markdown",
   "metadata": {},
   "source": [
    "Given the unreduced upper Hessenberg matrix $\\mathbf{H} \\in \\mathbb{R}^{N \\times N}$, whose trailing 2-by-2 principal submatrix has eigenvalues $a_{0}$ and $a_{1}$, this algorithm overwrites $\\mathbf{H}$ with $\\mathbf{Z}^{\\top}\\mathbf{H}\\mathbf{Z}$, where $\\mathbf{Z}$ is a product of Householder matrices and $\\mathbf{Z}^{\\top}(\\mathbf{H} - a_{0} \\, \\mathbf{I})(\\mathbf{H} - a_{1} \\, \\mathbf{I})$ is upper triangular."
   ]
  },
  {
   "cell_type": "markdown",
   "metadata": {},
   "source": [
    "For details about Householder matrices, take a look at the notebook [`Householder_transformation`](https://github.com/birocoles/Matrix-Computations/blob/main/code/Householder_transformation.ipynb))."
   ]
  },
  {
   "cell_type": "markdown",
   "metadata": {},
   "source": [
    "### Create a matrix $\\mathbf{A}$"
   ]
  },
  {
   "cell_type": "code",
   "execution_count": 3,
   "metadata": {},
   "outputs": [],
   "source": [
    "np.random.seed(77)\n",
    "N = 6"
   ]
  },
  {
   "cell_type": "code",
   "execution_count": 4,
   "metadata": {},
   "outputs": [],
   "source": [
    "A = np.random.rand(N,N)"
   ]
  },
  {
   "cell_type": "markdown",
   "metadata": {},
   "source": [
    "### Compute an upper Hessenberg matrix $\\mathbf{H}$ from $\\mathbf{A}$"
   ]
  },
  {
   "cell_type": "code",
   "execution_count": 5,
   "metadata": {},
   "outputs": [],
   "source": [
    "H = A.copy()\n",
    "mca.upper_Hessen_House(H)\n",
    "H = np.triu(m=H,k=-1)"
   ]
  },
  {
   "cell_type": "code",
   "execution_count": 6,
   "metadata": {},
   "outputs": [
    {
     "data": {
      "image/png": "[encoded data removed]",
      "text/plain": [
       "<Figure size 864x288 with 4 Axes>"
      ]
     },
     "metadata": {
      "needs_background": "light"
     },
     "output_type": "display_data"
    }
   ],
   "source": [
    "plf.plot_matrices(matrices=[A, H], size=(12,4), tol=1e-15, shape=(1,2))"
   ]
  },
  {
   "cell_type": "markdown",
   "metadata": {},
   "source": [
    "### Pseudo-code of the Francis QR step (Golub and Van Loan, 2013, Algorithm 7.5.1, p. 390)"
   ]
  },
  {
   "cell_type": "markdown",
   "metadata": {},
   "source": [
    "    H = H0;\n",
    "    n = length(H);\n",
    "    if n<=2\n",
    "        return\n",
    "    end\n",
    "    m = n-1;\n",
    "    % Compute the first column of (H-alfa1*I)(H-alfa2*I)) where\n",
    "    % alfa 1 and alfa2 are the eigenvalues of the lower 2x2...\n",
    "    s = H(m,m)+H(n,n);\n",
    "    t = H(m,m)*H(n,n) - H(m,n)*H(n,m);\n",
    "    x = H(1,1)*H(1,1)+H(1,2)*H(2,1) - s*H(1,1) + t;\n",
    "    y = H(2,1)*(H(1,1)+H(2,2)-s);\n",
    "    z = H(2,1)*H(3,2);\n",
    "    % Chase the bulge...\n",
    "    for k=0:n-3\n",
    "        [v,beta] = House([x;y;z]);\n",
    "        q = max(1,k);\n",
    "        H(k+1:k+3,q:n) =  H(k+1:k+3,q:n) - (beta*v)*(v'*H(k+1:k+3,q:n));\n",
    "        r = min(k+4,n);\n",
    "        H(1:r,k+1:k+3) =  H(1:r,k+1:k+3) - (H(1:r,k+1:k+3)*v)*(beta*v)';\n",
    "        x = H(k+2,k+1);\n",
    "        y = H(k+3,k+1);\n",
    "        if k<n-3\n",
    "            z = H(k+4,k+1);\n",
    "        end\n",
    "    end\n",
    "    [v,beta] = House([x;y]);\n",
    "    H(n-1:n,n-2:n) = H(n-1:n,n-2:n) - (beta*v)*(v'*H(n-1:n,n-2:n));\n",
    "    H(1:n,n-1:n) = H(1:n,n-1:n) - (H(1:n,n-1:n)*v)*(beta*v)';"
   ]
  },
  {
   "cell_type": "code",
   "execution_count": 7,
   "metadata": {},
   "outputs": [
    {
     "name": "stdout",
     "output_type": "stream",
     "text": [
      "k = 0\n",
      "q = 1\n",
      "H(1:3,1:6)\n",
      "r = 4\n",
      "H(1:4,1:3)\n",
      "x = H(2,1)\n",
      "y = H(3,1)\n",
      "z = H(4,1)\n",
      "\n",
      "\n",
      "k = 1\n",
      "q = 1\n",
      "H(2:4,1:6)\n",
      "r = 5\n",
      "H(1:5,2:4)\n",
      "x = H(3,2)\n",
      "y = H(4,2)\n",
      "z = H(5,2)\n",
      "\n",
      "\n",
      "k = 2\n",
      "q = 2\n",
      "H(3:5,2:6)\n",
      "r = 6\n",
      "H(1:6,3:5)\n",
      "x = H(4,3)\n",
      "y = H(5,3)\n",
      "z = H(6,3)\n",
      "\n",
      "\n",
      "k = 3\n",
      "q = 3\n",
      "H(4:6,3:6)\n",
      "r = 6\n",
      "H(1:6,4:6)\n",
      "x = H(5,4)\n",
      "y = H(6,4)\n",
      "\n",
      "\n"
     ]
    }
   ],
   "source": [
    "for k in range(N-2):\n",
    "    print(f'k = {k}')\n",
    "    q = max(1,k)\n",
    "    print(f'q = {q}')\n",
    "    print(f'H({k+1}:{k+3},{q}:{N})')\n",
    "    r = min(k+4,N)\n",
    "    print(f'r = {r}')\n",
    "    print(f'H(1:{r},{k+1}:{k+3})')\n",
    "    print(f'x = H({k+2},{k+1})')\n",
    "    print(f'y = H({k+3},{k+1})')\n",
    "    if k < N-3:\n",
    "        print(f'z = H({k+4},{k+1})')\n",
    "    print('\\n')"
   ]
  },
  {
   "cell_type": "markdown",
   "metadata": {},
   "source": [
    "### Compute the product $\\mathbf{P}_{0} \\, \\mathbf{H} \\, \\mathbf{P}_{0}$"
   ]
  },
  {
   "cell_type": "code",
   "execution_count": 8,
   "metadata": {},
   "outputs": [],
   "source": [
    "# Compute first column of M = (H - a1 I)(H - a2 I)\n",
    "\n",
    "# Matlab code\n",
    "# m = n-1;\n",
    "# % Compute the first column of (H-alfa1*I)(H-alfa2*I)) where\n",
    "# % alfa 1 and alfa2 are the eigenvalues of the lower 2x2...\n",
    "# s = H(m,m)+H(n,n);\n",
    "# t = H(m,m)*H(n,n) - H(m,n)*H(n,m);\n",
    "# x = H(1,1)*H(1,1)+H(1,2)*H(2,1) - s*H(1,1) + t;\n",
    "# y = H(2,1)*(H(1,1)+H(2,2)-s);\n",
    "# z = H(2,1)*H(3,2);\n",
    "\n",
    "s = H[-2,-2] + H[-1,-1]\n",
    "t = H[-2,-2]*H[-1,-1] - H[-2,-1]*H[-1,-2]\n",
    "x = H[0,0]*H[0,0] + H[0,1]*H[1,0] - s*H[0,0] + t\n",
    "y = H[1,0]*(H[0,0] + H[1,1] - s)\n",
    "z = H[1,0]*H[2,1]\n",
    "\n",
    "# Compute matrix M\n",
    "M = H@H - s*H + t*np.eye(N)"
   ]
  },
  {
   "cell_type": "code",
   "execution_count": 9,
   "metadata": {},
   "outputs": [],
   "source": [
    "# Compute the QR decomposition of M\n",
    "\n",
    "R2 = M.copy()\n",
    "mca.QR_House(R2)\n",
    "Z2 = mca.Q_from_QR_House(R2)\n",
    "R2 = np.triu(R2)"
   ]
  },
  {
   "cell_type": "code",
   "execution_count": 10,
   "metadata": {},
   "outputs": [
    {
     "data": {
      "text/plain": [
       "True"
      ]
     },
     "execution_count": 10,
     "metadata": {},
     "output_type": "execute_result"
    }
   ],
   "source": [
    "np.allclose(Z2@R2, M)"
   ]
  },
  {
   "cell_type": "code",
   "execution_count": 11,
   "metadata": {},
   "outputs": [
    {
     "data": {
      "text/plain": [
       "array([[ 3.159,  4.574,  3.548,  1.475, -0.162, -1.26 ],\n",
       "       [-0.   ,  0.971,  0.799,  0.111,  0.092, -0.494],\n",
       "       [ 0.   ,  0.   ,  0.509,  0.212, -0.12 , -0.012],\n",
       "       [ 0.   ,  0.   , -0.   ,  0.217, -0.027,  0.046],\n",
       "       [-0.   , -0.   , -0.   , -0.   ,  0.073, -0.039],\n",
       "       [-0.   ,  0.   ,  0.   ,  0.   ,  0.   , -0.036]])"
      ]
     },
     "execution_count": 11,
     "metadata": {},
     "output_type": "execute_result"
    }
   ],
   "source": [
    "# Verify that Z.T M is upper triangular\n",
    "\n",
    "Z2.T@M"
   ]
  },
  {
   "cell_type": "code",
   "execution_count": 12,
   "metadata": {},
   "outputs": [],
   "source": [
    "# Create lists to store the computed v, beta, products Pk ... P0 H P0 ... Pk\n",
    "v = []\n",
    "beta = []\n",
    "products = [H]\n",
    "P = []\n",
    "\n",
    "# Create a copy of matrix H\n",
    "\n",
    "ZTHZ = H.copy()"
   ]
  },
  {
   "cell_type": "code",
   "execution_count": 13,
   "metadata": {},
   "outputs": [],
   "source": [
    "# Compute P0\n",
    "\n",
    "vk, betak = mca.House_vector([x,y,z])\n",
    "v.append(vk)\n",
    "beta.append(betak)\n",
    "\n",
    "Pk = np.identity(N)\n",
    "Pk[:3,:3] -= betak*np.outer(vk,vk)\n",
    "P.append(Pk)"
   ]
  },
  {
   "cell_type": "code",
   "execution_count": 14,
   "metadata": {},
   "outputs": [],
   "source": [
    "products.append(P[0]@ZTHZ@P[0])"
   ]
  },
  {
   "cell_type": "code",
   "execution_count": 15,
   "metadata": {},
   "outputs": [],
   "source": [
    "# Overwrite H with the product P0 H P0 without explicitly forming matrix P0\n",
    "\n",
    "ZTHZ[:3,:] = mca.House_matvec(ZTHZ[:3,:], vk, betak, 'PA')\n",
    "ZTHZ[:4,:3] = mca.House_matvec(ZTHZ[:4,:3], vk, betak, 'AP')"
   ]
  },
  {
   "cell_type": "code",
   "execution_count": 16,
   "metadata": {},
   "outputs": [
    {
     "data": {
      "text/plain": [
       "True"
      ]
     },
     "execution_count": 16,
     "metadata": {},
     "output_type": "execute_result"
    }
   ],
   "source": [
    "# Compare the results for P0 H P0\n",
    "np.allclose(ZTHZ, products[1])"
   ]
  },
  {
   "cell_type": "code",
   "execution_count": 17,
   "metadata": {},
   "outputs": [
    {
     "data": {
      "image/png": "[encoded data removed]",
      "text/plain": [
       "<Figure size 1080x288 with 6 Axes>"
      ]
     },
     "metadata": {
      "needs_background": "light"
     },
     "output_type": "display_data"
    }
   ],
   "source": [
    "plf.plot_matrices(matrices=[H, products[1], ZTHZ], size=(15,4), tol=1e-15, shape=(1,3))"
   ]
  },
  {
   "cell_type": "markdown",
   "metadata": {},
   "source": [
    "### Compute the successive products from columns $k = 0$ to $N - 4$"
   ]
  },
  {
   "cell_type": "code",
   "execution_count": 18,
   "metadata": {},
   "outputs": [],
   "source": [
    "for k in range(0, N-3):\n",
    "\n",
    "    x = ZTHZ[k+1, k]\n",
    "    y = ZTHZ[k+2, k]\n",
    "    z = ZTHZ[k+3, k]\n",
    "    \n",
    "    vk, betak = mca.House_vector([x,y,z])\n",
    "    v.append(vk)\n",
    "    beta.append(betak)\n",
    "    \n",
    "    Pk = np.identity(N)\n",
    "    Pk[k+1:k+4,k+1:k+4] -= betak*np.outer(vk,vk)\n",
    "    P.append(Pk)\n",
    "    \n",
    "    products.append(P[k+1]@ZTHZ@P[k+1])\n",
    "    \n",
    "    ZTHZ[k+1:k+4,k:] = mca.House_matvec(ZTHZ[k+1:k+4,k:], vk, betak, 'PA')\n",
    "    ZTHZ[:k+5,k+1:k+4] = mca.House_matvec(ZTHZ[:k+5,k+1:k+4], vk, betak, 'AP')"
   ]
  },
  {
   "cell_type": "code",
   "execution_count": 19,
   "metadata": {},
   "outputs": [
    {
     "data": {
      "image/png": "[encoded data removed]",
      "text/plain": [
       "<Figure size 1080x576 with 8 Axes>"
      ]
     },
     "metadata": {
      "needs_background": "light"
     },
     "output_type": "display_data"
    }
   ],
   "source": [
    "plf.plot_matrices(matrices=P, size=(15,8), tol=1e-15, shape=(2,3))"
   ]
  },
  {
   "cell_type": "code",
   "execution_count": 20,
   "metadata": {},
   "outputs": [
    {
     "data": {
      "image/png": "[encoded data removed]",
      "text/plain": [
       "<Figure size 1080x576 with 10 Axes>"
      ]
     },
     "metadata": {
      "needs_background": "light"
     },
     "output_type": "display_data"
    }
   ],
   "source": [
    "plf.plot_matrices(matrices=products, size=(15,8), tol=1e-15, shape=(2,3))"
   ]
  },
  {
   "cell_type": "code",
   "execution_count": 21,
   "metadata": {},
   "outputs": [
    {
     "data": {
      "text/plain": [
       "True"
      ]
     },
     "execution_count": 21,
     "metadata": {},
     "output_type": "execute_result"
    }
   ],
   "source": [
    "np.allclose(ZTHZ, products[-1])"
   ]
  },
  {
   "cell_type": "markdown",
   "metadata": {},
   "source": [
    "### Compute the product for column $k = N - 3$"
   ]
  },
  {
   "cell_type": "code",
   "execution_count": 22,
   "metadata": {},
   "outputs": [],
   "source": [
    "x = ZTHZ[N-2, N-3]\n",
    "y = ZTHZ[N-1, N-3]\n",
    "    \n",
    "vk, betak = mca.House_vector([x,y])\n",
    "v.append(vk)\n",
    "beta.append(betak)\n",
    "    \n",
    "Pk = np.identity(N)\n",
    "Pk[N-2:,N-2:] -= betak*np.outer(vk,vk)\n",
    "P.append(Pk)\n",
    "\n",
    "products.append(P[N-2]@ZTHZ@P[N-2])\n",
    "\n",
    "ZTHZ[N-2:,N-3:] = mca.House_matvec(ZTHZ[N-2:,N-3:], vk, betak, 'PA')\n",
    "ZTHZ[:,N-2:] = mca.House_matvec(ZTHZ[:,N-2:], vk, betak, 'AP')"
   ]
  },
  {
   "cell_type": "code",
   "execution_count": 23,
   "metadata": {},
   "outputs": [
    {
     "data": {
      "image/png": "[encoded data removed]",
      "text/plain": [
       "<Figure size 1080x576 with 10 Axes>"
      ]
     },
     "metadata": {
      "needs_background": "light"
     },
     "output_type": "display_data"
    }
   ],
   "source": [
    "plf.plot_matrices(matrices=P, size=(15,8), tol=1e-15, shape=(2,3))"
   ]
  },
  {
   "cell_type": "code",
   "execution_count": 24,
   "metadata": {},
   "outputs": [
    {
     "data": {
      "image/png": "[encoded data removed]",
      "text/plain": [
       "<Figure size 1080x576 with 12 Axes>"
      ]
     },
     "metadata": {
      "needs_background": "light"
     },
     "output_type": "display_data"
    }
   ],
   "source": [
    "plf.plot_matrices(matrices=products, size=(15,8), tol=1e-15, shape=(2,3))"
   ]
  },
  {
   "cell_type": "code",
   "execution_count": 25,
   "metadata": {},
   "outputs": [
    {
     "data": {
      "text/plain": [
       "True"
      ]
     },
     "execution_count": 25,
     "metadata": {},
     "output_type": "execute_result"
    }
   ],
   "source": [
    "np.allclose(ZTHZ, products[-1])"
   ]
  },
  {
   "cell_type": "markdown",
   "metadata": {},
   "source": [
    "### Compute matrix $\\mathbf{Z}$"
   ]
  },
  {
   "cell_type": "code",
   "execution_count": 26,
   "metadata": {},
   "outputs": [],
   "source": [
    "Z = np.linalg.multi_dot(P)"
   ]
  },
  {
   "cell_type": "code",
   "execution_count": 27,
   "metadata": {},
   "outputs": [
    {
     "data": {
      "text/plain": [
       "True"
      ]
     },
     "execution_count": 27,
     "metadata": {},
     "output_type": "execute_result"
    }
   ],
   "source": [
    "np.allclose(ZTHZ, Z.T@H@Z)"
   ]
  },
  {
   "cell_type": "code",
   "execution_count": 28,
   "metadata": {},
   "outputs": [
    {
     "data": {
      "text/plain": [
       "True"
      ]
     },
     "execution_count": 28,
     "metadata": {},
     "output_type": "execute_result"
    }
   ],
   "source": [
    "np.allclose(Z, Z2)"
   ]
  },
  {
   "cell_type": "code",
   "execution_count": 29,
   "metadata": {},
   "outputs": [
    {
     "data": {
      "image/png": "[encoded data removed]",
      "text/plain": [
       "<Figure size 1080x288 with 6 Axes>"
      ]
     },
     "metadata": {
      "needs_background": "light"
     },
     "output_type": "display_data"
    }
   ],
   "source": [
    "plf.plot_matrices(matrices=[H, ZTHZ, Z.T@M], size=(15,4), tol=1e-8, shape=(1,3))"
   ]
  },
  {
   "cell_type": "markdown",
   "metadata": {},
   "source": [
    "### Compare with the result produced by function `mca.Francis_QR_step`"
   ]
  },
  {
   "cell_type": "code",
   "execution_count": 30,
   "metadata": {},
   "outputs": [
    {
     "data": {
      "text/plain": [
       "[array([-2.071, -0.981]),\n",
       " array([ 0.237, -0.411]),\n",
       " array([ 1.804, -1.803]),\n",
       " array([-0.089, -0.439]),\n",
       " array([-0.162])]"
      ]
     },
     "execution_count": 30,
     "metadata": {},
     "output_type": "execute_result"
    }
   ],
   "source": [
    "H_function = H.copy()\n",
    "mca.Francis_QR_step(H=H_function)"
   ]
  },
  {
   "cell_type": "code",
   "execution_count": 31,
   "metadata": {},
   "outputs": [
    {
     "data": {
      "text/plain": [
       "True"
      ]
     },
     "execution_count": 31,
     "metadata": {},
     "output_type": "execute_result"
    }
   ],
   "source": [
    "np.allclose(H_function, ZTHZ)"
   ]
  },
  {
   "cell_type": "code",
   "execution_count": 32,
   "metadata": {},
   "outputs": [
    {
     "data": {
      "text/plain": [
       "array([[ 0.68 , -0.541, -0.217,  0.031, -0.419,  0.149],\n",
       "       [ 0.663,  0.487, -0.158, -0.189,  0.513, -0.006],\n",
       "       [ 0.314,  0.144,  0.802,  0.331, -0.176, -0.31 ],\n",
       "       [ 0.   ,  0.671, -0.232,  0.091, -0.672,  0.19 ],\n",
       "       [ 0.   ,  0.   ,  0.481, -0.557, -0.05 ,  0.675],\n",
       "       [ 0.   ,  0.   ,  0.   ,  0.731,  0.276,  0.624]])"
      ]
     },
     "execution_count": 32,
     "metadata": {},
     "output_type": "execute_result"
    }
   ],
   "source": [
    "Z"
   ]
  },
  {
   "cell_type": "code",
   "execution_count": null,
   "metadata": {},
   "outputs": [],
   "source": []
  }
 ],
 "metadata": {
  "kernelspec": {
   "display_name": "Python 3 (ipykernel)",
   "language": "python",
   "name": "python3"
  },
  "language_info": {
   "codemirror_mode": {
    "name": "ipython",
    "version": 3
   },
   "file_extension": ".py",
   "mimetype": "text/x-python",
   "name": "python",
   "nbconvert_exporter": "python",
   "pygments_lexer": "ipython3",
   "version": "3.7.7"
  }
 },
 "nbformat": 4,
 "nbformat_minor": 1
}
