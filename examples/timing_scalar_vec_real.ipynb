{
 "cells": [
  {
   "cell_type": "markdown",
   "metadata": {},
   "source": [
    "# Timing scalar_real functions"
   ]
  },
  {
   "cell_type": "markdown",
   "metadata": {},
   "source": [
    "This code uses the magic function `%timeit`<sup> 1 2 </sup> to measure the excetution time of functions `scalar_real_dumb` , `scalar_real_numpy`, `scalar_real_numba` and `dot_real_parallel`.\n",
    "\n",
    "* <sup> 1 </sup>[Profiling and Timing Code - excerpt from the Python Data Science Handbook by Jake VanderPlas](https://jakevdp.github.io/PythonDataScienceHandbook/01.07-timing-and-profiling.html)\n",
    "\n",
    "* <sup> 2 </sup>[Python documentation - timeit — Measure execution time of small code snippets](https://docs.python.org/3/library/timeit.html)"
   ]
  },
  {
   "cell_type": "code",
   "execution_count": 1,
   "metadata": {},
   "outputs": [],
   "source": [
    "import matplotlib.pyplot as plt\n",
    "import numpy as np\n",
    "from scipy.linalg import blas\n",
    "import functions as fcs\n",
    "from tqdm.notebook import tqdm as tq # produce the progress bar"
   ]
  },
  {
   "cell_type": "code",
   "execution_count": 2,
   "metadata": {},
   "outputs": [],
   "source": [
    "# number of elements forming the vectors\n",
    "N = np.array([100, 300, 500, 700, 1000, 1500, 2000, 5000, 10000])"
   ]
  },
  {
   "cell_type": "code",
   "execution_count": 4,
   "metadata": {},
   "outputs": [
    {
     "data": {
      "application/vnd.jupyter.widget-view+json": {
       "model_id": "0f1e4126342443059b057492a825eac8",
       "version_major": 2,
       "version_minor": 0
      },
      "text/plain": [
       "HBox(children=(FloatProgress(value=0.0, max=9.0), HTML(value='')))"
      ]
     },
     "metadata": {},
     "output_type": "display_data"
    },
    {
     "name": "stdout",
     "output_type": "stream",
     "text": [
      "318 µs ± 6.62 µs per loop (mean ± std. dev. of 7 runs, 1000 loops each)\n",
      "4.04 µs ± 187 ns per loop (mean ± std. dev. of 7 runs, 100000 loops each)\n",
      "The slowest run took 11.41 times longer than the fastest. This could mean that an intermediate result is being cached.\n",
      "4.92 µs ± 6.6 µs per loop (mean ± std. dev. of 7 runs, 1 loop each)\n",
      "278 ns ± 9.07 ns per loop (mean ± std. dev. of 7 runs, 1000000 loops each)\n",
      "918 µs ± 15.2 µs per loop (mean ± std. dev. of 7 runs, 1000 loops each)\n",
      "4.29 µs ± 22.3 ns per loop (mean ± std. dev. of 7 runs, 100000 loops each)\n",
      "1.46 µs ± 5.29 ns per loop (mean ± std. dev. of 7 runs, 1000000 loops each)\n",
      "293 ns ± 1.13 ns per loop (mean ± std. dev. of 7 runs, 1000000 loops each)\n",
      "1.5 ms ± 3.84 µs per loop (mean ± std. dev. of 7 runs, 1000 loops each)\n",
      "4.42 µs ± 21.2 ns per loop (mean ± std. dev. of 7 runs, 100000 loops each)\n",
      "1.49 µs ± 4.8 ns per loop (mean ± std. dev. of 7 runs, 1000000 loops each)\n",
      "331 ns ± 6.66 ns per loop (mean ± std. dev. of 7 runs, 1000000 loops each)\n",
      "2.14 ms ± 62.1 µs per loop (mean ± std. dev. of 7 runs, 100 loops each)\n",
      "5.02 µs ± 261 ns per loop (mean ± std. dev. of 7 runs, 100000 loops each)\n",
      "1.57 µs ± 36.4 ns per loop (mean ± std. dev. of 7 runs, 1000000 loops each)\n",
      "365 ns ± 2.38 ns per loop (mean ± std. dev. of 7 runs, 1000000 loops each)\n",
      "3 ms ± 17 µs per loop (mean ± std. dev. of 7 runs, 100 loops each)\n",
      "4.98 µs ± 61.9 ns per loop (mean ± std. dev. of 7 runs, 100000 loops each)\n",
      "1.67 µs ± 6.56 ns per loop (mean ± std. dev. of 7 runs, 1000000 loops each)\n",
      "438 ns ± 6.94 ns per loop (mean ± std. dev. of 7 runs, 1000000 loops each)\n",
      "4.52 ms ± 52.4 µs per loop (mean ± std. dev. of 7 runs, 100 loops each)\n",
      "5.15 µs ± 33.9 ns per loop (mean ± std. dev. of 7 runs, 100000 loops each)\n",
      "1.91 µs ± 2.92 ns per loop (mean ± std. dev. of 7 runs, 1000000 loops each)\n",
      "512 ns ± 1.3 ns per loop (mean ± std. dev. of 7 runs, 1000000 loops each)\n",
      "5.94 ms ± 27 µs per loop (mean ± std. dev. of 7 runs, 100 loops each)\n",
      "5.37 µs ± 48.1 ns per loop (mean ± std. dev. of 7 runs, 100000 loops each)\n",
      "2.11 µs ± 27.8 ns per loop (mean ± std. dev. of 7 runs, 100000 loops each)\n",
      "611 ns ± 3.39 ns per loop (mean ± std. dev. of 7 runs, 1000000 loops each)\n",
      "14.8 ms ± 99.4 µs per loop (mean ± std. dev. of 7 runs, 100 loops each)\n",
      "7.12 µs ± 228 ns per loop (mean ± std. dev. of 7 runs, 100000 loops each)\n",
      "3.33 µs ± 56 ns per loop (mean ± std. dev. of 7 runs, 100000 loops each)\n",
      "1.75 µs ± 186 ns per loop (mean ± std. dev. of 7 runs, 1000000 loops each)\n",
      "29.7 ms ± 147 µs per loop (mean ± std. dev. of 7 runs, 10 loops each)\n",
      "9.67 µs ± 260 ns per loop (mean ± std. dev. of 7 runs, 100000 loops each)\n",
      "5.23 µs ± 118 ns per loop (mean ± std. dev. of 7 runs, 100000 loops each)\n",
      "2.61 µs ± 62.3 ns per loop (mean ± std. dev. of 7 runs, 100000 loops each)\n",
      "\n"
     ]
    }
   ],
   "source": [
    "list_time_dumb = []\n",
    "list_time_numpy = []\n",
    "list_time_numba = []\n",
    "list_time_blas = []\n",
    "for Ni in tq(N):\n",
    "    vector = np.ones(Ni)\n",
    "    # scalar_vec_real_dumb\n",
    "    time = %timeit -o fcs.scalar_vec_real_dumb(2.0, vector)\n",
    "    list_time_dumb.append(time.average)\n",
    "    # scalar_vec_real_numpy\n",
    "    time = %timeit -o fcs.scalar_vec_real_numpy(2.0, vector)\n",
    "    list_time_numpy.append(time.average)\n",
    "    # scalar_vec_real_numba\n",
    "    time = %timeit -o fcs.scalar_vec_real_numba(2.0, vector)\n",
    "    list_time_numba.append(time.average)\n",
    "    # blas.dscal\n",
    "    time = %timeit -o blas.dscal(2.0, vector)\n",
    "    list_time_blas.append(time.average)"
   ]
  },
  {
   "cell_type": "code",
   "execution_count": 5,
   "metadata": {},
   "outputs": [],
   "source": [
    "list_time_dumb = np.array(list_time_dumb)\n",
    "list_time_numpy = np.array(list_time_numpy)\n",
    "list_time_numba = np.array(list_time_numba)\n",
    "list_time_blas = np.array(list_time_blas)"
   ]
  },
  {
   "cell_type": "code",
   "execution_count": 6,
   "metadata": {},
   "outputs": [
    {
     "data": {
      "image/png": "[encoded data removed]",
      "text/plain": [
       "<Figure size 720x504 with 1 Axes>"
      ]
     },
     "metadata": {
      "needs_background": "light"
     },
     "output_type": "display_data"
    }
   ],
   "source": [
    "plt.figure(figsize=(10,7))\n",
    "plt.plot(N, list_time_dumb*1e6, 'bo-', label = 'dumb')\n",
    "plt.plot(N, list_time_numpy*1e6, 'ro-', label = 'numpy')\n",
    "plt.plot(N, list_time_numba*1e6, 'go-', label = 'numba')\n",
    "plt.plot(N, list_time_blas*1e6, 'ko-', label = 'blas')\n",
    "plt.legend(loc = 'best', fontsize = 14)\n",
    "plt.xticks(fontsize = 12)\n",
    "plt.yticks(fontsize = 12)\n",
    "plt.xlabel('N', fontsize = 16)\n",
    "plt.ylabel('Time ($\\mu$s)', fontsize = 16)\n",
    "plt.yscale('log')\n",
    "plt.grid()\n",
    "plt.show()"
   ]
  },
  {
   "cell_type": "code",
   "execution_count": null,
   "metadata": {},
   "outputs": [],
   "source": []
  }
 ],
 "metadata": {
  "kernelspec": {
   "display_name": "Python 3",
   "language": "python",
   "name": "python3"
  },
  "language_info": {
   "codemirror_mode": {
    "name": "ipython",
    "version": 3
   },
   "file_extension": ".py",
   "mimetype": "text/x-python",
   "name": "python",
   "nbconvert_exporter": "python",
   "pygments_lexer": "ipython3",
   "version": "3.7.4"
  }
 },
 "nbformat": 4,
 "nbformat_minor": 4
}
