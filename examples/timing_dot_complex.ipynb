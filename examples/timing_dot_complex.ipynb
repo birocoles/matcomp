{
 "cells": [
  {
   "cell_type": "markdown",
   "metadata": {},
   "source": [
    "# Timing dot_complex function"
   ]
  },
  {
   "cell_type": "markdown",
   "metadata": {},
   "source": [
    "This code uses the magic function `%timeit`<sup> 1 2 </sup> to measure the excetution time of the function `dot_complex` using different `dot_real` functions.\n",
    "\n",
    "* <sup> 1 </sup>[Profiling and Timing Code - excerpt from the Python Data Science Handbook by Jake VanderPlas](https://jakevdp.github.io/PythonDataScienceHandbook/01.07-timing-and-profiling.html)\n",
    "\n",
    "* <sup> 2 </sup>[Python documentation - timeit — Measure execution time of small code snippets](https://docs.python.org/3/library/timeit.html)"
   ]
  },
  {
   "cell_type": "code",
   "execution_count": 1,
   "metadata": {},
   "outputs": [],
   "source": [
    "import matplotlib.pyplot as plt\n",
    "import numpy as np\n",
    "import functions as fcs\n",
    "from tqdm.notebook import tqdm as tq # produce the progress bar"
   ]
  },
  {
   "cell_type": "code",
   "execution_count": 2,
   "metadata": {},
   "outputs": [],
   "source": [
    "# number of elements forming the vectors\n",
    "N = np.array([100, 300, 500, 700, 1000, 1500, 2000, 5000, 10000])"
   ]
  },
  {
   "cell_type": "code",
   "execution_count": 3,
   "metadata": {},
   "outputs": [
    {
     "data": {
      "application/vnd.jupyter.widget-view+json": {
       "model_id": "410b530eae36491cb6bedda71b9ac48f",
       "version_major": 2,
       "version_minor": 0
      },
      "text/plain": [
       "HBox(children=(FloatProgress(value=0.0, max=9.0), HTML(value='')))"
      ]
     },
     "metadata": {},
     "output_type": "display_data"
    },
    {
     "name": "stdout",
     "output_type": "stream",
     "text": [
      "255 µs ± 17.9 µs per loop (mean ± std. dev. of 100 runs, 100 loops each)\n",
      "53.9 µs ± 6.04 µs per loop (mean ± std. dev. of 100 runs, 100 loops each)\n",
      "The slowest run took 1154.75 times longer than the fastest. This could mean that an intermediate result is being cached.\n",
      "77.2 µs ± 703 µs per loop (mean ± std. dev. of 100 runs, 100 loops each)\n",
      "The slowest run took 180.62 times longer than the fastest. This could mean that an intermediate result is being cached.\n",
      "699 µs ± 2.22 ms per loop (mean ± std. dev. of 100 runs, 100 loops each)\n",
      "738 µs ± 48.8 µs per loop (mean ± std. dev. of 100 runs, 100 loops each)\n",
      "58.7 µs ± 4.95 µs per loop (mean ± std. dev. of 100 runs, 100 loops each)\n",
      "8.77 µs ± 728 ns per loop (mean ± std. dev. of 100 runs, 100 loops each)\n",
      "The slowest run took 5.83 times longer than the fastest. This could mean that an intermediate result is being cached.\n",
      "471 µs ± 84.3 µs per loop (mean ± std. dev. of 100 runs, 100 loops each)\n",
      "1.21 ms ± 52.5 µs per loop (mean ± std. dev. of 100 runs, 100 loops each)\n",
      "64.5 µs ± 11 µs per loop (mean ± std. dev. of 100 runs, 100 loops each)\n",
      "11.8 µs ± 3.37 µs per loop (mean ± std. dev. of 100 runs, 100 loops each)\n",
      "The slowest run took 6.51 times longer than the fastest. This could mean that an intermediate result is being cached.\n",
      "476 µs ± 76.2 µs per loop (mean ± std. dev. of 100 runs, 100 loops each)\n",
      "1.72 ms ± 92.1 µs per loop (mean ± std. dev. of 100 runs, 100 loops each)\n",
      "67.6 µs ± 10.8 µs per loop (mean ± std. dev. of 100 runs, 100 loops each)\n",
      "12.8 µs ± 3.62 µs per loop (mean ± std. dev. of 100 runs, 100 loops each)\n",
      "The slowest run took 4.49 times longer than the fastest. This could mean that an intermediate result is being cached.\n",
      "463 µs ± 86.3 µs per loop (mean ± std. dev. of 100 runs, 100 loops each)\n",
      "2.39 ms ± 93.4 µs per loop (mean ± std. dev. of 100 runs, 100 loops each)\n",
      "73.1 µs ± 9.56 µs per loop (mean ± std. dev. of 100 runs, 100 loops each)\n",
      "12.5 µs ± 658 ns per loop (mean ± std. dev. of 100 runs, 100 loops each)\n",
      "The slowest run took 5.43 times longer than the fastest. This could mean that an intermediate result is being cached.\n",
      "476 µs ± 69.4 µs per loop (mean ± std. dev. of 100 runs, 100 loops each)\n",
      "3.65 ms ± 168 µs per loop (mean ± std. dev. of 100 runs, 100 loops each)\n",
      "67.4 µs ± 2.45 µs per loop (mean ± std. dev. of 100 runs, 100 loops each)\n",
      "14.5 µs ± 670 ns per loop (mean ± std. dev. of 100 runs, 100 loops each)\n",
      "The slowest run took 4.27 times longer than the fastest. This could mean that an intermediate result is being cached.\n",
      "409 µs ± 130 µs per loop (mean ± std. dev. of 100 runs, 100 loops each)\n",
      "4.64 ms ± 127 µs per loop (mean ± std. dev. of 100 runs, 100 loops each)\n",
      "74 µs ± 3.35 µs per loop (mean ± std. dev. of 100 runs, 100 loops each)\n",
      "18.1 µs ± 839 ns per loop (mean ± std. dev. of 100 runs, 100 loops each)\n",
      "467 µs ± 52 µs per loop (mean ± std. dev. of 100 runs, 100 loops each)\n",
      "11.9 ms ± 427 µs per loop (mean ± std. dev. of 100 runs, 100 loops each)\n",
      "93.7 µs ± 3.14 µs per loop (mean ± std. dev. of 100 runs, 100 loops each)\n",
      "34.7 µs ± 3.36 µs per loop (mean ± std. dev. of 100 runs, 100 loops each)\n",
      "The slowest run took 4.24 times longer than the fastest. This could mean that an intermediate result is being cached.\n",
      "448 µs ± 76.6 µs per loop (mean ± std. dev. of 100 runs, 100 loops each)\n",
      "24.6 ms ± 705 µs per loop (mean ± std. dev. of 100 runs, 100 loops each)\n",
      "133 µs ± 9.84 µs per loop (mean ± std. dev. of 100 runs, 100 loops each)\n",
      "58.9 µs ± 2.18 µs per loop (mean ± std. dev. of 100 runs, 100 loops each)\n",
      "305 µs ± 142 µs per loop (mean ± std. dev. of 100 runs, 100 loops each)\n",
      "\n"
     ]
    }
   ],
   "source": [
    "list_time_dumb = []\n",
    "list_time_numpy = []\n",
    "list_time_numba = []\n",
    "list_time_parallel = []\n",
    "for Ni in tq(N):\n",
    "    vector = np.ones(Ni)\n",
    "    # dot_complex function='dumb'\n",
    "    time = %timeit -o -n 100 -r 100 fcs.dot_complex(vector, vector, function='dumb')\n",
    "    list_time_dumb.append(time.average)\n",
    "    # dot_complex function='numpy'\n",
    "    time = %timeit -o -n 100 -r 100 fcs.dot_complex(vector, vector, function='numpy')\n",
    "    list_time_numpy.append(time.average)\n",
    "    # dot_complex function='numba'\n",
    "    time = %timeit -o -n 100 -r 100 fcs.dot_complex(vector, vector, function='numba')\n",
    "    list_time_numba.append(time.average)\n",
    "    # dot_complex function='parallel'\n",
    "    time = %timeit -o -n 100 -r 100 fcs.dot_complex(vector, vector, function='parallel')\n",
    "    list_time_parallel.append(time.average)"
   ]
  },
  {
   "cell_type": "code",
   "execution_count": 4,
   "metadata": {},
   "outputs": [],
   "source": [
    "list_time_dumb = np.array(list_time_dumb)\n",
    "list_time_numpy = np.array(list_time_numpy)\n",
    "list_time_numba = np.array(list_time_numba)\n",
    "list_time_parallel = np.array(list_time_parallel)"
   ]
  },
  {
   "cell_type": "code",
   "execution_count": 5,
   "metadata": {},
   "outputs": [
    {
     "data": {
      "image/png": "[encoded data removed]",
      "text/plain": [
       "<Figure size 720x504 with 1 Axes>"
      ]
     },
     "metadata": {
      "needs_background": "light"
     },
     "output_type": "display_data"
    }
   ],
   "source": [
    "plt.figure(figsize=(10,7))\n",
    "plt.plot(N, list_time_dumb*1e6, 'bo-', label = 'dumb')\n",
    "plt.plot(N, list_time_numpy*1e6, 'ro-', label = 'numpy')\n",
    "plt.plot(N, list_time_numba*1e6, 'go-', label = 'numba')\n",
    "plt.plot(N, list_time_parallel*1e6, 'ko-', label = 'parallel')\n",
    "plt.legend(loc = 'best', fontsize = 14)\n",
    "plt.xticks(fontsize = 12)\n",
    "plt.yticks(fontsize = 12)\n",
    "plt.xlabel('N', fontsize = 16)\n",
    "plt.ylabel('Time ($\\mu$s)', fontsize = 16)\n",
    "plt.yscale('log')\n",
    "plt.grid()\n",
    "plt.show()"
   ]
  },
  {
   "cell_type": "code",
   "execution_count": null,
   "metadata": {},
   "outputs": [],
   "source": []
  }
 ],
 "metadata": {
  "kernelspec": {
   "display_name": "Python 3",
   "language": "python",
   "name": "python3"
  },
  "language_info": {
   "codemirror_mode": {
    "name": "ipython",
    "version": 3
   },
   "file_extension": ".py",
   "mimetype": "text/x-python",
   "name": "python",
   "nbconvert_exporter": "python",
   "pygments_lexer": "ipython3",
   "version": "3.7.4"
  }
 },
 "nbformat": 4,
 "nbformat_minor": 4
}
