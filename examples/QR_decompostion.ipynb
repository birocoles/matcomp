{
 "cells": [
  {
   "cell_type": "code",
   "execution_count": 1,
   "metadata": {},
   "outputs": [],
   "source": [
    "import numpy as np\n",
    "from matcomp import algorithms as mca\n",
    "from numpy.testing import assert_almost_equal as aae"
   ]
  },
  {
   "cell_type": "code",
   "execution_count": 2,
   "metadata": {},
   "outputs": [],
   "source": [
    "import matplotlib.pyplot as plt"
   ]
  },
  {
   "cell_type": "code",
   "execution_count": 3,
   "metadata": {},
   "outputs": [],
   "source": [
    "#np.set_printoptions(precision=3)\n",
    "np.set_printoptions(suppress=True)"
   ]
  },
  {
   "cell_type": "markdown",
   "metadata": {},
   "source": [
    "## Create synthetic data"
   ]
  },
  {
   "cell_type": "code",
   "execution_count": 4,
   "metadata": {},
   "outputs": [],
   "source": [
    "np.random.seed(6)\n",
    "M = 13\n",
    "N = 10"
   ]
  },
  {
   "cell_type": "code",
   "execution_count": 5,
   "metadata": {},
   "outputs": [],
   "source": [
    "A = np.round(np.random.rand(M,N), decimals=3)"
   ]
  },
  {
   "cell_type": "code",
   "execution_count": 6,
   "metadata": {},
   "outputs": [],
   "source": [
    "x_true = np.random.rand(N) + 1"
   ]
  },
  {
   "cell_type": "code",
   "execution_count": 7,
   "metadata": {},
   "outputs": [],
   "source": [
    "y = np.dot(A, x_true)"
   ]
  },
  {
   "cell_type": "code",
   "execution_count": 8,
   "metadata": {},
   "outputs": [
    {
     "name": "stdout",
     "output_type": "stream",
     "text": [
      "[[0.893 0.332 0.821 0.042 0.108 0.595 0.53  0.419 0.335 0.623]\n",
      " [0.438 0.736 0.518 0.579 0.645 0.99  0.82  0.413 0.876 0.824]\n",
      " [0.054 0.719 0.802 0.736 0.709 0.541 0.125 0.958 0.403 0.217]\n",
      " [0.717 0.994 0.256 0.671 0.599 0.717 0.937 0.352 0.254 0.402]\n",
      " [0.747 0.724 0.406 0.989 0.45  0.374 0.71  0.082 0.398 0.771]\n",
      " [0.765 0.284 0.19  0.471 0.335 0.735 0.189 0.331 0.844 0.615]\n",
      " [0.885 0.977 0.837 0.181 0.618 0.476 0.404 0.742 0.826 0.683]\n",
      " [0.139 0.703 0.059 0.193 0.925 0.405 0.148 0.682 0.163 0.648]\n",
      " [0.252 0.041 0.959 0.066 0.513 0.341 0.66  0.844 0.604 0.587]\n",
      " [0.117 0.71  0.205 0.49  0.037 0.315 0.863 0.558 0.547 0.368]\n",
      " [0.828 0.276 0.126 0.563 0.267 0.775 0.179 0.783 0.608 0.042]\n",
      " [0.561 0.668 0.938 0.786 0.75  0.497 0.043 0.817 0.014 0.55 ]\n",
      " [0.567 0.113 0.063 0.575 0.485 0.301 0.04  0.634 0.124 0.012]]\n"
     ]
    }
   ],
   "source": [
    "print(A)"
   ]
  },
  {
   "cell_type": "code",
   "execution_count": 9,
   "metadata": {},
   "outputs": [
    {
     "name": "stdout",
     "output_type": "stream",
     "text": [
      "[1.27666659 1.30154554 1.18031763 1.06697796 1.77923395 1.40074847\n",
      " 1.24581485 1.52377219 1.25498569 1.85190846]\n"
     ]
    }
   ],
   "source": [
    "print(x_true)"
   ]
  },
  {
   "cell_type": "code",
   "execution_count": 10,
   "metadata": {},
   "outputs": [
    {
     "name": "stdout",
     "output_type": "stream",
     "text": [
      "[6.48453444 9.55687528 7.27906754 8.06423743 7.69175788 6.63664858\n",
      " 9.28425148 6.20929578 6.9212139  5.63870165 5.98329659 7.89663382\n",
      " 4.03711599]\n"
     ]
    }
   ],
   "source": [
    "print(y)"
   ]
  },
  {
   "cell_type": "markdown",
   "metadata": {},
   "source": [
    "## Householder QR"
   ]
  },
  {
   "cell_type": "code",
   "execution_count": 11,
   "metadata": {},
   "outputs": [],
   "source": [
    "A2 = A.copy()\n",
    "mca.QR_House(A2)"
   ]
  },
  {
   "cell_type": "code",
   "execution_count": 12,
   "metadata": {},
   "outputs": [],
   "source": [
    "Q = mca.Q_from_QR_House(A=A2)\n",
    "R = np.triu(A2)"
   ]
  },
  {
   "cell_type": "code",
   "execution_count": 13,
   "metadata": {},
   "outputs": [
    {
     "data": {
      "text/plain": [
       "False"
      ]
     },
     "execution_count": 13,
     "metadata": {},
     "output_type": "execute_result"
    }
   ],
   "source": [
    "np.allclose(A, np.dot(Q, R))"
   ]
  },
  {
   "cell_type": "code",
   "execution_count": 14,
   "metadata": {},
   "outputs": [
    {
     "data": {
      "text/plain": [
       "(13, 10)"
      ]
     },
     "execution_count": 14,
     "metadata": {},
     "output_type": "execute_result"
    }
   ],
   "source": [
    "A.shape"
   ]
  },
  {
   "cell_type": "code",
   "execution_count": 15,
   "metadata": {},
   "outputs": [
    {
     "data": {
      "text/plain": [
       "(13, 13)"
      ]
     },
     "execution_count": 15,
     "metadata": {},
     "output_type": "execute_result"
    }
   ],
   "source": [
    "Q.shape"
   ]
  },
  {
   "cell_type": "code",
   "execution_count": 16,
   "metadata": {},
   "outputs": [
    {
     "data": {
      "text/plain": [
       "(13, 10)"
      ]
     },
     "execution_count": 16,
     "metadata": {},
     "output_type": "execute_result"
    }
   ],
   "source": [
    "R.shape"
   ]
  },
  {
   "cell_type": "code",
   "execution_count": 17,
   "metadata": {},
   "outputs": [
    {
     "data": {
      "image/png": "[encoded data removed]",
      "text/plain": [
       "<Figure size 864x288 with 6 Axes>"
      ]
     },
     "metadata": {
      "needs_background": "light"
     },
     "output_type": "display_data"
    }
   ],
   "source": [
    "cmap = plt.cm.hsv.copy()\n",
    "cmap.set_bad(color='black')\n",
    "\n",
    "plt.figure(figsize=(12,4))\n",
    "\n",
    "plt.subplot(131)\n",
    "#plt.matshow(A, fignum=0, cmap='jet')\n",
    "A_masked = np.ma.masked_where(A == 0, A)\n",
    "plt.matshow(A_masked, fignum=0, cmap=cmap)\n",
    "plt.colorbar()\n",
    "\n",
    "plt.subplot(132)\n",
    "#plt.matshow(R, fignum=0, cmap='jet')\n",
    "R_masked = np.ma.masked_where(R == 0, R)\n",
    "plt.matshow(R_masked, fignum=0, cmap=cmap)\n",
    "plt.colorbar()\n",
    "\n",
    "plt.subplot(133)\n",
    "#plt.matshow(Q, fignum=0, cmap='jet')\n",
    "Q_masked = np.ma.masked_where(Q == 0, Q)\n",
    "plt.matshow(Q_masked, fignum=0, cmap=cmap)\n",
    "plt.colorbar()\n",
    "\n",
    "plt.tight_layout()\n",
    "plt.show()"
   ]
  },
  {
   "cell_type": "markdown",
   "metadata": {},
   "source": [
    "## LS solution via QR decomposition"
   ]
  },
  {
   "cell_type": "code",
   "execution_count": 18,
   "metadata": {},
   "outputs": [],
   "source": [
    "QTy = np.dot(Q.T,y)\n",
    "c = QTy[:N]\n",
    "minimum_residual_size = np.linalg.norm(QTy[N:])"
   ]
  },
  {
   "cell_type": "code",
   "execution_count": 19,
   "metadata": {},
   "outputs": [],
   "source": [
    "x_house_qr = np.linalg.solve(R[:N], c)"
   ]
  },
  {
   "cell_type": "code",
   "execution_count": 20,
   "metadata": {},
   "outputs": [
    {
     "name": "stdout",
     "output_type": "stream",
     "text": [
      "[1.27666659 1.30154554 1.18031763 1.06697796 1.77923395 1.40074847\n",
      " 1.24581485 1.52377219 1.25498569 1.85190846]\n"
     ]
    }
   ],
   "source": [
    "print(x_true)"
   ]
  },
  {
   "cell_type": "code",
   "execution_count": 21,
   "metadata": {},
   "outputs": [
    {
     "name": "stdout",
     "output_type": "stream",
     "text": [
      "[1.31563194 1.31674623 1.26847605 1.03050863 1.96194195 1.38529211\n",
      " 1.3109395  1.39698469 1.34886663 1.57159716]\n"
     ]
    }
   ],
   "source": [
    "print(x_house_qr)"
   ]
  },
  {
   "cell_type": "code",
   "execution_count": 22,
   "metadata": {},
   "outputs": [
    {
     "name": "stdout",
     "output_type": "stream",
     "text": [
      "0.508009383823446\n"
     ]
    }
   ],
   "source": [
    "print(minimum_residual_size)"
   ]
  },
  {
   "cell_type": "code",
   "execution_count": null,
   "metadata": {},
   "outputs": [],
   "source": []
  }
 ],
 "metadata": {
  "kernelspec": {
   "display_name": "Python 3 (ipykernel)",
   "language": "python",
   "name": "python3"
  },
  "language_info": {
   "codemirror_mode": {
    "name": "ipython",
    "version": 3
   },
   "file_extension": ".py",
   "mimetype": "text/x-python",
   "name": "python",
   "nbconvert_exporter": "python",
   "pygments_lexer": "ipython3",
   "version": "3.7.7"
  }
 },
 "nbformat": 4,
 "nbformat_minor": 4
}
