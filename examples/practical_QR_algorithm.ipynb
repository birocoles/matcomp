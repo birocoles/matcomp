{
 "cells": [
  {
   "cell_type": "code",
   "execution_count": 1,
   "id": "fac3a333",
   "metadata": {},
   "outputs": [],
   "source": [
    "import numpy as np\n",
    "from scipy.linalg import schur\n",
    "import matplotlib as mpl\n",
    "import matplotlib.pyplot as plt"
   ]
  },
  {
   "cell_type": "code",
   "execution_count": 2,
   "id": "a267dc07",
   "metadata": {},
   "outputs": [],
   "source": [
    "np.set_printoptions(precision=3)\n",
    "#np.set_printoptions(suppress=True)"
   ]
  },
  {
   "cell_type": "code",
   "execution_count": 3,
   "id": "5e3ea34f",
   "metadata": {},
   "outputs": [],
   "source": [
    "from matcomp import algorithms as mca"
   ]
  },
  {
   "cell_type": "code",
   "execution_count": 4,
   "id": "2fa08a8d",
   "metadata": {},
   "outputs": [],
   "source": [
    "def plot_matrices(matrices, size, tol, shape):\n",
    "\n",
    "    num_matrices = len(matrices)\n",
    "    assert num_matrices <= shape[0]*shape[1], 'matrices does not match shape'\n",
    "    \n",
    "    cmap = mpl.cm.get_cmap(\"hsv\").copy()\n",
    "    cmap.set_bad(color='black')\n",
    "\n",
    "    plt.figure(figsize=size)\n",
    "    \n",
    "    for i, matrix in enumerate(matrices):\n",
    "\n",
    "        plt.subplot(shape[0], shape[1], i+1)\n",
    "        matrix_masked = np.ma.masked_where(np.abs(matrix) < tol, matrix)\n",
    "        plt.matshow(matrix_masked, fignum=0, cmap=cmap)\n",
    "        plt.colorbar()\n",
    "\n",
    "    plt.tight_layout()\n",
    "    plt.show()"
   ]
  },
  {
   "cell_type": "code",
   "execution_count": 5,
   "id": "148cebc0",
   "metadata": {},
   "outputs": [],
   "source": [
    "np.random.seed(8)\n",
    "N = 10\n",
    "A = np.random.rand(N,N)"
   ]
  },
  {
   "cell_type": "code",
   "execution_count": 6,
   "id": "2b14ed05",
   "metadata": {},
   "outputs": [],
   "source": [
    "T_scipy, Z_scipy = schur(A)"
   ]
  },
  {
   "cell_type": "code",
   "execution_count": 7,
   "id": "28cbd4be",
   "metadata": {},
   "outputs": [
    {
     "data": {
      "text/plain": [
       "True"
      ]
     },
     "execution_count": 7,
     "metadata": {},
     "output_type": "execute_result"
    }
   ],
   "source": [
    "np.allclose(A, Z_scipy@T_scipy@Z_scipy.T)"
   ]
  },
  {
   "cell_type": "code",
   "execution_count": 8,
   "id": "9eea848f",
   "metadata": {},
   "outputs": [],
   "source": [
    "H = A.copy()"
   ]
  },
  {
   "cell_type": "code",
   "execution_count": 9,
   "id": "3ec94cb9",
   "metadata": {},
   "outputs": [],
   "source": [
    "mca.upper_Hessen_House(H)"
   ]
  },
  {
   "cell_type": "code",
   "execution_count": 10,
   "id": "a8f2af06",
   "metadata": {},
   "outputs": [],
   "source": [
    "itmax = N-1"
   ]
  },
  {
   "cell_type": "code",
   "execution_count": 11,
   "id": "8859eacc",
   "metadata": {},
   "outputs": [],
   "source": [
    "# QR iteration\n",
    "T = np.triu(m=H, k=-1)\n",
    "for i in range(itmax):\n",
    "    mca.H_plus_RQ(T)"
   ]
  },
  {
   "cell_type": "code",
   "execution_count": 12,
   "id": "4bae808a",
   "metadata": {},
   "outputs": [],
   "source": [
    "# Single-shift QR iteration\n",
    "T_single_shift = np.triu(m=H, k=-1)\n",
    "for i in range(itmax):\n",
    "    mu = T_single_shift[-1,-1]\n",
    "    T_single_shift -= mu*np.identity(N)\n",
    "    mca.H_plus_RQ(T_single_shift)\n",
    "    T_single_shift += mu*np.identity(N)"
   ]
  },
  {
   "cell_type": "code",
   "execution_count": 13,
   "id": "5fb8d254",
   "metadata": {},
   "outputs": [
    {
     "data": {
      "image/png": "[encoded data removed]",
      "text/plain": [
       "<Figure size 432x288 with 1 Axes>"
      ]
     },
     "metadata": {
      "needs_background": "light"
     },
     "output_type": "display_data"
    }
   ],
   "source": [
    "plt.figure()\n",
    "plt.plot(np.sort(np.diag(T_scipy)), 'ko', linewidth=3)\n",
    "plt.plot(np.sort(np.diag(T)), 'bx', linewidth=3)\n",
    "plt.plot(np.sort(np.diag(T_single_shift)), 'rx', linewidth=3)\n",
    "plt.show()"
   ]
  },
  {
   "cell_type": "code",
   "execution_count": 14,
   "id": "cbb3a689",
   "metadata": {},
   "outputs": [
    {
     "data": {
      "text/plain": [
       "array([-0.756, -0.503, -0.194, -0.194,  0.174,  0.393,  0.393,  0.573,\n",
       "        0.573,  5.08 ])"
      ]
     },
     "execution_count": 14,
     "metadata": {},
     "output_type": "execute_result"
    }
   ],
   "source": [
    "np.sort(np.diag(T_scipy))"
   ]
  },
  {
   "cell_type": "code",
   "execution_count": 15,
   "id": "7994a800",
   "metadata": {},
   "outputs": [
    {
     "data": {
      "text/plain": [
       "array([-0.51 , -0.457, -0.299,  0.044,  0.174,  0.244,  0.288,  0.395,\n",
       "        0.58 ,  5.08 ])"
      ]
     },
     "execution_count": 15,
     "metadata": {},
     "output_type": "execute_result"
    }
   ],
   "source": [
    "np.sort(np.diag(T))"
   ]
  },
  {
   "cell_type": "code",
   "execution_count": 16,
   "id": "6a3d8752",
   "metadata": {},
   "outputs": [
    {
     "data": {
      "text/plain": [
       "array([-0.755, -0.503, -0.379, -0.012,  0.148,  0.28 ,  0.405,  0.448,\n",
       "        0.826,  5.08 ])"
      ]
     },
     "execution_count": 16,
     "metadata": {},
     "output_type": "execute_result"
    }
   ],
   "source": [
    "np.sort(np.diag(T_single_shift))"
   ]
  },
  {
   "cell_type": "code",
   "execution_count": 17,
   "id": "1a185db0",
   "metadata": {},
   "outputs": [
    {
     "data": {
      "image/png": "[encoded data removed]",
      "text/plain": [
       "<Figure size 1080x288 with 6 Axes>"
      ]
     },
     "metadata": {
      "needs_background": "light"
     },
     "output_type": "display_data"
    }
   ],
   "source": [
    "plot_matrices(matrices=[T_scipy, T, T_single_shift], size=(15,4), tol=1e-10, shape=(1,3))"
   ]
  },
  {
   "cell_type": "code",
   "execution_count": null,
   "id": "e19de191",
   "metadata": {},
   "outputs": [],
   "source": []
  }
 ],
 "metadata": {
  "kernelspec": {
   "display_name": "Python 3 (ipykernel)",
   "language": "python",
   "name": "python3"
  },
  "language_info": {
   "codemirror_mode": {
    "name": "ipython",
    "version": 3
   },
   "file_extension": ".py",
   "mimetype": "text/x-python",
   "name": "python",
   "nbconvert_exporter": "python",
   "pygments_lexer": "ipython3",
   "version": "3.7.7"
  }
 },
 "nbformat": 4,
 "nbformat_minor": 5
}
