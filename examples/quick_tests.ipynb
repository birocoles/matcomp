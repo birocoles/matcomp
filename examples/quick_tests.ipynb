{
 "cells": [
  {
   "cell_type": "code",
   "execution_count": 1,
   "metadata": {},
   "outputs": [],
   "source": [
    "import numpy as np\n",
    "import matcomp_algorithms as mca\n",
    "import matplotlib.pyplot as plt\n",
    "from matplotlib import cm\n",
    "from copy import copy"
   ]
  },
  {
   "cell_type": "code",
   "execution_count": 2,
   "metadata": {},
   "outputs": [],
   "source": [
    "#np.set_printoptions(precision=3)\n",
    "np.set_printoptions(suppress=True)"
   ]
  },
  {
   "cell_type": "code",
   "execution_count": 3,
   "metadata": {},
   "outputs": [],
   "source": [
    "np.random.seed(89)\n",
    "N = 6"
   ]
  },
  {
   "cell_type": "code",
   "execution_count": 4,
   "metadata": {},
   "outputs": [],
   "source": [
    "A = np.random.rand(N,N)"
   ]
  },
  {
   "cell_type": "code",
   "execution_count": 5,
   "metadata": {},
   "outputs": [],
   "source": [
    "A = A.T + A"
   ]
  },
  {
   "cell_type": "code",
   "execution_count": 6,
   "metadata": {},
   "outputs": [
    {
     "data": {
      "text/plain": [
       "True"
      ]
     },
     "execution_count": 6,
     "metadata": {},
     "output_type": "execute_result"
    }
   ],
   "source": [
    "np.allclose(A, A.T)"
   ]
  },
  {
   "cell_type": "code",
   "execution_count": 7,
   "metadata": {},
   "outputs": [],
   "source": [
    "Tridiag = A.copy()"
   ]
  },
  {
   "cell_type": "code",
   "execution_count": 8,
   "metadata": {},
   "outputs": [],
   "source": [
    "mca.House_tridiag(Tridiag)"
   ]
  },
  {
   "cell_type": "code",
   "execution_count": 9,
   "metadata": {},
   "outputs": [],
   "source": [
    "Q = mca.Q_from_House_tridiag(Tridiag)"
   ]
  },
  {
   "cell_type": "code",
   "execution_count": 10,
   "metadata": {},
   "outputs": [],
   "source": [
    "QQT = np.dot(Q, Q.T)"
   ]
  },
  {
   "cell_type": "code",
   "execution_count": 11,
   "metadata": {},
   "outputs": [],
   "source": [
    "QTQ = np.dot(Q.T, Q)"
   ]
  },
  {
   "cell_type": "code",
   "execution_count": 12,
   "metadata": {},
   "outputs": [
    {
     "data": {
      "text/plain": [
       "True"
      ]
     },
     "execution_count": 12,
     "metadata": {},
     "output_type": "execute_result"
    }
   ],
   "source": [
    "np.allclose(np.identity(N), QQT)"
   ]
  },
  {
   "cell_type": "code",
   "execution_count": 13,
   "metadata": {},
   "outputs": [
    {
     "name": "stdout",
     "output_type": "stream",
     "text": [
      "[[ 1.  0.  0.  0.  0.  0.]\n",
      " [ 0.  1.  0.  0. -0.  0.]\n",
      " [ 0.  0.  1. -0.  0. -0.]\n",
      " [ 0.  0. -0.  1.  0. -0.]\n",
      " [ 0. -0.  0.  0.  1.  0.]\n",
      " [ 0.  0. -0. -0.  0.  1.]]\n"
     ]
    }
   ],
   "source": [
    "print(QQT)"
   ]
  },
  {
   "cell_type": "code",
   "execution_count": 14,
   "metadata": {},
   "outputs": [
    {
     "data": {
      "text/plain": [
       "True"
      ]
     },
     "execution_count": 14,
     "metadata": {},
     "output_type": "execute_result"
    }
   ],
   "source": [
    "np.allclose(np.identity(N), QTQ)"
   ]
  },
  {
   "cell_type": "code",
   "execution_count": 15,
   "metadata": {},
   "outputs": [
    {
     "name": "stdout",
     "output_type": "stream",
     "text": [
      "[[ 1.  0.  0.  0.  0.  0.]\n",
      " [ 0.  1. -0. -0.  0. -0.]\n",
      " [ 0. -0.  1.  0.  0.  0.]\n",
      " [ 0. -0.  0.  1.  0. -0.]\n",
      " [ 0.  0.  0.  0.  1. -0.]\n",
      " [ 0. -0.  0. -0. -0.  1.]]\n"
     ]
    }
   ],
   "source": [
    "print(QTQ)"
   ]
  },
  {
   "cell_type": "code",
   "execution_count": 16,
   "metadata": {},
   "outputs": [
    {
     "data": {
      "text/plain": [
       "True"
      ]
     },
     "execution_count": 16,
     "metadata": {},
     "output_type": "execute_result"
    }
   ],
   "source": [
    "np.allclose(np.diag(v=Tridiag,k=1), np.diag(v=Tridiag,k=-1))"
   ]
  },
  {
   "cell_type": "code",
   "execution_count": 17,
   "metadata": {},
   "outputs": [
    {
     "data": {
      "image/png": "[encoded data removed]",
      "text/plain": [
       "<Figure size 864x288 with 6 Axes>"
      ]
     },
     "metadata": {
      "needs_background": "light"
     },
     "output_type": "display_data"
    }
   ],
   "source": [
    "cmap = copy(cm.get_cmap(\"hsv\"))\n",
    "cmap.set_bad(color='black')\n",
    "\n",
    "plt.figure(figsize=(12,4))\n",
    "\n",
    "plt.subplot(131)\n",
    "Tridiag_masked = np.ma.masked_where(np.abs(np.triu(Tridiag, k=-1)) < 1e-15, np.triu(Tridiag, k=-1))\n",
    "plt.matshow(Tridiag_masked, fignum=0, cmap=cmap)\n",
    "plt.colorbar()\n",
    "\n",
    "plt.subplot(132)\n",
    "Q_masked = np.ma.masked_where(np.abs(Q) < 1e-15, Q)\n",
    "plt.matshow(Q_masked, fignum=0, cmap=cmap)\n",
    "plt.colorbar()\n",
    "\n",
    "plt.subplot(133)\n",
    "QTQ_masked = np.ma.masked_where(np.abs(QTQ) < 1e-15, QTQ)\n",
    "plt.matshow(QTQ_masked, fignum=0, cmap=cmap)\n",
    "plt.colorbar()\n",
    "\n",
    "plt.tight_layout()\n",
    "plt.show()"
   ]
  },
  {
   "cell_type": "code",
   "execution_count": 18,
   "metadata": {},
   "outputs": [],
   "source": [
    "AQ = np.dot(A,Q)\n",
    "QTAQ = np.dot(Q.T, AQ)"
   ]
  },
  {
   "cell_type": "code",
   "execution_count": 19,
   "metadata": {},
   "outputs": [
    {
     "data": {
      "image/png": "[encoded data removed]",
      "text/plain": [
       "<Figure size 864x288 with 6 Axes>"
      ]
     },
     "metadata": {
      "needs_background": "light"
     },
     "output_type": "display_data"
    }
   ],
   "source": [
    "cmap = copy(cm.get_cmap(\"hsv\"))\n",
    "cmap.set_bad(color='black')\n",
    "\n",
    "plt.figure(figsize=(12,4))\n",
    "\n",
    "plt.subplot(131)\n",
    "Tridiag_masked = np.ma.masked_where(np.abs(np.triu(Tridiag, k=-1)) < 1e-15, np.triu(Tridiag, k=-1))\n",
    "plt.matshow(Tridiag_masked, fignum=0, cmap=cmap)\n",
    "plt.colorbar()\n",
    "\n",
    "plt.subplot(132)\n",
    "AQ_masked = np.ma.masked_where(np.abs(AQ) < 1e-15, AQ)\n",
    "plt.matshow(AQ_masked, fignum=0, cmap=cmap)\n",
    "plt.colorbar()\n",
    "\n",
    "plt.subplot(133)\n",
    "QTAQ_masked = np.ma.masked_where(np.abs(QTAQ) < 1e-15, QTAQ)\n",
    "plt.matshow(QTAQ_masked, fignum=0, cmap=cmap)\n",
    "plt.colorbar()\n",
    "\n",
    "plt.tight_layout()\n",
    "plt.show()"
   ]
  },
  {
   "cell_type": "code",
   "execution_count": 20,
   "metadata": {},
   "outputs": [
    {
     "data": {
      "text/plain": [
       "True"
      ]
     },
     "execution_count": 20,
     "metadata": {},
     "output_type": "execute_result"
    }
   ],
   "source": [
    "np.allclose(QTAQ, np.triu(Tridiag, k=-1))"
   ]
  },
  {
   "cell_type": "code",
   "execution_count": 21,
   "metadata": {},
   "outputs": [],
   "source": [
    "np.random.seed(8)\n",
    "N = 6"
   ]
  },
  {
   "cell_type": "code",
   "execution_count": 22,
   "metadata": {},
   "outputs": [],
   "source": [
    "A = np.random.rand(N,N)"
   ]
  },
  {
   "cell_type": "code",
   "execution_count": 23,
   "metadata": {},
   "outputs": [],
   "source": [
    "A = A.T + A"
   ]
  },
  {
   "cell_type": "code",
   "execution_count": 24,
   "metadata": {},
   "outputs": [],
   "source": [
    "Tridiag2 = np.tril(m=np.triu(m=A, k=-1), k=1)"
   ]
  },
  {
   "cell_type": "code",
   "execution_count": 25,
   "metadata": {},
   "outputs": [
    {
     "data": {
      "text/plain": [
       "array([[1.74685881, 1.39900948, 0.        , 0.        , 0.        ,\n",
       "        0.        ],\n",
       "       [1.39900948, 0.80470272, 1.23504925, 0.        , 0.        ,\n",
       "        0.        ],\n",
       "       [0.        , 1.23504925, 1.23936419, 0.49190016, 0.        ,\n",
       "        0.        ],\n",
       "       [0.        , 0.        , 0.49190016, 1.96574109, 1.02400072,\n",
       "        0.        ],\n",
       "       [0.        , 0.        , 0.        , 1.02400072, 0.69092322,\n",
       "        1.92355335],\n",
       "       [0.        , 0.        , 0.        , 0.        , 1.92355335,\n",
       "        0.63937959]])"
      ]
     },
     "execution_count": 25,
     "metadata": {},
     "output_type": "execute_result"
    }
   ],
   "source": [
    "Tridiag2"
   ]
  },
  {
   "cell_type": "code",
   "execution_count": 26,
   "metadata": {},
   "outputs": [],
   "source": [
    "Z, mu = mca.imp_symm_QR_step_shift(Tridiag2)"
   ]
  },
  {
   "cell_type": "code",
   "execution_count": 27,
   "metadata": {},
   "outputs": [
    {
     "data": {
      "text/plain": [
       "False"
      ]
     },
     "execution_count": 27,
     "metadata": {},
     "output_type": "execute_result"
    }
   ],
   "source": [
    "np.allclose(Tridiag2, np.linalg.multi_dot([Z.T, Tridiag2, Z]))"
   ]
  },
  {
   "cell_type": "code",
   "execution_count": 28,
   "metadata": {},
   "outputs": [],
   "source": [
    "U = np.dot(Z.T, Tridiag2 - mu*np.identity(Tridiag2.shape[0]))"
   ]
  },
  {
   "cell_type": "code",
   "execution_count": 29,
   "metadata": {},
   "outputs": [
    {
     "data": {
      "image/png": "[encoded data removed]",
      "text/plain": [
       "<Figure size 864x288 with 6 Axes>"
      ]
     },
     "metadata": {
      "needs_background": "light"
     },
     "output_type": "display_data"
    }
   ],
   "source": [
    "cmap = copy(cm.get_cmap(\"hsv\"))\n",
    "cmap.set_bad(color='black')\n",
    "\n",
    "plt.figure(figsize=(12,4))\n",
    "\n",
    "plt.subplot(131)\n",
    "Tridiag2_masked = np.ma.masked_where(np.abs(Tridiag2) < 1e-15, Tridiag2)\n",
    "plt.matshow(Tridiag2_masked, fignum=0, cmap=cmap)\n",
    "plt.colorbar()\n",
    "\n",
    "plt.subplot(132)\n",
    "Z_masked = np.ma.masked_where(np.abs(Z) < 1e-15, Z)\n",
    "plt.matshow(Z_masked, fignum=0, cmap=cmap)\n",
    "plt.colorbar()\n",
    "\n",
    "plt.subplot(133)\n",
    "U_masked = np.ma.masked_where(np.abs(U) < 1e-15, U)\n",
    "plt.matshow(U_masked, fignum=0, cmap=cmap)\n",
    "plt.colorbar()\n",
    "\n",
    "plt.tight_layout()\n",
    "plt.show()"
   ]
  },
  {
   "cell_type": "code",
   "execution_count": null,
   "metadata": {},
   "outputs": [],
   "source": []
  }
 ],
 "metadata": {
  "kernelspec": {
   "display_name": "Python 3",
   "language": "python",
   "name": "python3"
  },
  "language_info": {
   "codemirror_mode": {
    "name": "ipython",
    "version": 3
   },
   "file_extension": ".py",
   "mimetype": "text/x-python",
   "name": "python",
   "nbconvert_exporter": "python",
   "pygments_lexer": "ipython3",
   "version": "3.7.7"
  }
 },
 "nbformat": 4,
 "nbformat_minor": 4
}
