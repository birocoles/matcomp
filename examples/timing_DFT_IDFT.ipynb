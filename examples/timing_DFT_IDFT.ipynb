{
 "cells": [
  {
   "cell_type": "markdown",
   "metadata": {},
   "source": [
    "# Timing DFT/IDFT functions"
   ]
  },
  {
   "cell_type": "markdown",
   "metadata": {},
   "source": [
    "This code uses the magic function `%timeit`<sup> 1 2 </sup> to measure the excetution time of functions `DFT_dumb` and `DFT_recursive`.\n",
    "\n",
    "* <sup> 1 </sup>[Profiling and Timing Code - excerpt from the Python Data Science Handbook by Jake VanderPlas](https://jakevdp.github.io/PythonDataScienceHandbook/01.07-timing-and-profiling.html)\n",
    "\n",
    "* <sup> 2 </sup>[Python documentation - timeit — Measure execution time of small code snippets](https://docs.python.org/3/library/timeit.html)"
   ]
  },
  {
   "cell_type": "code",
   "execution_count": 1,
   "metadata": {},
   "outputs": [],
   "source": [
    "import matplotlib.pyplot as plt\n",
    "import numpy as np\n",
    "import scipy as sp\n",
    "import functions as fcs\n",
    "from tqdm.notebook import tqdm as tq # produce the progress bar"
   ]
  },
  {
   "cell_type": "code",
   "execution_count": 2,
   "metadata": {},
   "outputs": [],
   "source": [
    "# number of elements forming the vectors\n",
    "N = np.array([2**i for i in range(4,11)])"
   ]
  },
  {
   "cell_type": "code",
   "execution_count": 3,
   "metadata": {},
   "outputs": [
    {
     "data": {
      "text/plain": [
       "array([  16,   32,   64,  128,  256,  512, 1024])"
      ]
     },
     "execution_count": 3,
     "metadata": {},
     "output_type": "execute_result"
    }
   ],
   "source": [
    "N"
   ]
  },
  {
   "cell_type": "code",
   "execution_count": 4,
   "metadata": {},
   "outputs": [
    {
     "data": {
      "application/vnd.jupyter.widget-view+json": {
       "model_id": "7e7448fc601448569d1a4b2c098b7f08",
       "version_major": 2,
       "version_minor": 0
      },
      "text/plain": [
       "HBox(children=(FloatProgress(value=0.0, max=7.0), HTML(value='')))"
      ]
     },
     "metadata": {},
     "output_type": "display_data"
    },
    {
     "name": "stdout",
     "output_type": "stream",
     "text": [
      "116 µs ± 51.3 µs per loop (mean ± std. dev. of 7 runs, 1 loop each)\n",
      "92.4 µs ± 1.27 µs per loop (mean ± std. dev. of 7 runs, 10000 loops each)\n",
      "12.5 µs ± 159 ns per loop (mean ± std. dev. of 7 runs, 100000 loops each)\n",
      "203 µs ± 2.36 µs per loop (mean ± std. dev. of 7 runs, 1000 loops each)\n",
      "210 µs ± 5.04 µs per loop (mean ± std. dev. of 7 runs, 1000 loops each)\n",
      "12.7 µs ± 224 ns per loop (mean ± std. dev. of 7 runs, 100000 loops each)\n",
      "569 µs ± 2.18 µs per loop (mean ± std. dev. of 7 runs, 1000 loops each)\n",
      "570 µs ± 3.59 µs per loop (mean ± std. dev. of 7 runs, 1000 loops each)\n",
      "12.8 µs ± 32.3 ns per loop (mean ± std. dev. of 7 runs, 100000 loops each)\n",
      "1.82 ms ± 4.18 µs per loop (mean ± std. dev. of 7 runs, 1000 loops each)\n",
      "1.17 ms ± 1.39 µs per loop (mean ± std. dev. of 7 runs, 1000 loops each)\n",
      "14.3 µs ± 31.9 ns per loop (mean ± std. dev. of 7 runs, 100000 loops each)\n",
      "6.95 ms ± 27.6 µs per loop (mean ± std. dev. of 7 runs, 100 loops each)\n",
      "2.39 ms ± 14.5 µs per loop (mean ± std. dev. of 7 runs, 100 loops each)\n",
      "15.5 µs ± 160 ns per loop (mean ± std. dev. of 7 runs, 100000 loops each)\n",
      "25.7 ms ± 131 µs per loop (mean ± std. dev. of 7 runs, 10 loops each)\n",
      "4.86 ms ± 13.4 µs per loop (mean ± std. dev. of 7 runs, 100 loops each)\n",
      "18.4 µs ± 63.7 ns per loop (mean ± std. dev. of 7 runs, 100000 loops each)\n",
      "95.6 ms ± 199 µs per loop (mean ± std. dev. of 7 runs, 10 loops each)\n",
      "9.69 ms ± 29.9 µs per loop (mean ± std. dev. of 7 runs, 100 loops each)\n",
      "23.8 µs ± 160 ns per loop (mean ± std. dev. of 7 runs, 10000 loops each)\n",
      "\n"
     ]
    }
   ],
   "source": [
    "list_time_dumb = []\n",
    "list_time_recursive = []\n",
    "list_time_scipy = []\n",
    "for Ni in tq(N):\n",
    "    data = np.ones(Ni)\n",
    "    # DFT_dumb\n",
    "    time = %timeit -o fcs.DFT_dumb(x=data, scale=None)\n",
    "    list_time_dumb.append(time.average)\n",
    "    # DFT_recursive\n",
    "    time = %timeit -o fcs.DFT_recursive(x=data, scale=None)\n",
    "    list_time_recursive.append(time.average)\n",
    "    # scipy.fft.fft\n",
    "    time = %timeit -o sp.fft.fft(x=data, norm=None)\n",
    "    list_time_scipy.append(time.average)"
   ]
  },
  {
   "cell_type": "code",
   "execution_count": 5,
   "metadata": {},
   "outputs": [
    {
     "data": {
      "image/png": "[encoded data removed]",
      "text/plain": [
       "<Figure size 720x504 with 1 Axes>"
      ]
     },
     "metadata": {
      "needs_background": "light"
     },
     "output_type": "display_data"
    }
   ],
   "source": [
    "plt.figure(figsize=(10,7))\n",
    "plt.title('Direct transform', fontsize=18)\n",
    "plt.plot(N, np.asarray(list_time_dumb)*1e6, 'bo-', label = 'dumb')\n",
    "plt.plot(N, np.asarray(list_time_recursive)*1e6, 'ro-', label = 'recursive')\n",
    "plt.plot(N, np.asarray(list_time_scipy)*1e6, 'go-', label = 'scipy')\n",
    "plt.legend(loc = 'best', fontsize = 14)\n",
    "plt.xticks(fontsize = 12)\n",
    "plt.yticks(fontsize = 12)\n",
    "plt.xlabel('N', fontsize = 16)\n",
    "plt.ylabel('Time ($\\mu$s)', fontsize = 16)\n",
    "plt.yscale('log')\n",
    "plt.grid()\n",
    "plt.show()"
   ]
  },
  {
   "cell_type": "code",
   "execution_count": 6,
   "metadata": {},
   "outputs": [
    {
     "data": {
      "application/vnd.jupyter.widget-view+json": {
       "model_id": "d42433081dbf4c36aa427457aeb0363d",
       "version_major": 2,
       "version_minor": 0
      },
      "text/plain": [
       "HBox(children=(FloatProgress(value=0.0, max=7.0), HTML(value='')))"
      ]
     },
     "metadata": {},
     "output_type": "display_data"
    },
    {
     "name": "stdout",
     "output_type": "stream",
     "text": [
      "96 µs ± 842 ns per loop (mean ± std. dev. of 7 runs, 10000 loops each)\n",
      "96.7 µs ± 159 ns per loop (mean ± std. dev. of 7 runs, 10000 loops each)\n",
      "12.4 µs ± 59.3 ns per loop (mean ± std. dev. of 7 runs, 100000 loops each)\n",
      "212 µs ± 941 ns per loop (mean ± std. dev. of 7 runs, 1000 loops each)\n",
      "208 µs ± 1.65 µs per loop (mean ± std. dev. of 7 runs, 1000 loops each)\n",
      "12.6 µs ± 53.9 ns per loop (mean ± std. dev. of 7 runs, 100000 loops each)\n",
      "616 µs ± 14.7 µs per loop (mean ± std. dev. of 7 runs, 1000 loops each)\n",
      "582 µs ± 12.9 µs per loop (mean ± std. dev. of 7 runs, 1000 loops each)\n",
      "12.9 µs ± 91 ns per loop (mean ± std. dev. of 7 runs, 100000 loops each)\n",
      "2.06 ms ± 113 µs per loop (mean ± std. dev. of 7 runs, 1000 loops each)\n",
      "1.28 ms ± 48.8 µs per loop (mean ± std. dev. of 7 runs, 1000 loops each)\n",
      "14.9 µs ± 261 ns per loop (mean ± std. dev. of 7 runs, 100000 loops each)\n",
      "6.88 ms ± 92.8 µs per loop (mean ± std. dev. of 7 runs, 100 loops each)\n",
      "2.44 ms ± 22.1 µs per loop (mean ± std. dev. of 7 runs, 100 loops each)\n",
      "15.9 µs ± 300 ns per loop (mean ± std. dev. of 7 runs, 100000 loops each)\n",
      "24.9 ms ± 767 µs per loop (mean ± std. dev. of 7 runs, 10 loops each)\n",
      "4.85 ms ± 46.7 µs per loop (mean ± std. dev. of 7 runs, 100 loops each)\n",
      "18.3 µs ± 84.4 ns per loop (mean ± std. dev. of 7 runs, 100000 loops each)\n",
      "100 ms ± 302 µs per loop (mean ± std. dev. of 7 runs, 10 loops each)\n",
      "9.63 ms ± 39.7 µs per loop (mean ± std. dev. of 7 runs, 100 loops each)\n",
      "24.5 µs ± 699 ns per loop (mean ± std. dev. of 7 runs, 10000 loops each)\n",
      "\n"
     ]
    }
   ],
   "source": [
    "list_time_dumb = []\n",
    "list_time_recursive = []\n",
    "list_time_scipy = []\n",
    "for Ni in tq(N):\n",
    "    data = np.ones(Ni)\n",
    "    # IDFT_dumb\n",
    "    time = %timeit -o fcs.IDFT_dumb(X=data, scale='n')\n",
    "    list_time_dumb.append(time.average)\n",
    "    # IDFT_recursive\n",
    "    time = %timeit -o fcs.IDFT_recursive(X=data, scale='n')\n",
    "    list_time_recursive.append(time.average)\n",
    "    # scipy.fft.ifft\n",
    "    time = %timeit -o sp.fft.ifft(x=data, norm=None)\n",
    "    list_time_scipy.append(time.average)"
   ]
  },
  {
   "cell_type": "code",
   "execution_count": 7,
   "metadata": {},
   "outputs": [
    {
     "data": {
      "image/png": "[encoded data removed]",
      "text/plain": [
       "<Figure size 720x504 with 1 Axes>"
      ]
     },
     "metadata": {
      "needs_background": "light"
     },
     "output_type": "display_data"
    }
   ],
   "source": [
    "plt.figure(figsize=(10,7))\n",
    "plt.title('Inverse transform', fontsize=18)\n",
    "plt.plot(N, np.asarray(list_time_dumb)*1e6, 'bo-', label = 'dumb')\n",
    "plt.plot(N, np.asarray(list_time_recursive)*1e6, 'ro-', label = 'recursive')\n",
    "plt.plot(N, np.asarray(list_time_scipy)*1e6, 'go-', label = 'scipy')\n",
    "plt.legend(loc = 'best', fontsize = 14)\n",
    "plt.xticks(fontsize = 12)\n",
    "plt.yticks(fontsize = 12)\n",
    "plt.xlabel('N', fontsize = 16)\n",
    "plt.ylabel('Time ($\\mu$s)', fontsize = 16)\n",
    "plt.yscale('log')\n",
    "plt.grid()\n",
    "plt.show()"
   ]
  },
  {
   "cell_type": "code",
   "execution_count": 10,
   "metadata": {},
   "outputs": [],
   "source": [
    "data = np.random.rand(1024*16)"
   ]
  },
  {
   "cell_type": "code",
   "execution_count": 11,
   "metadata": {},
   "outputs": [
    {
     "name": "stdout",
     "output_type": "stream",
     "text": [
      "159 ms ± 1.27 ms per loop (mean ± std. dev. of 7 runs, 10 loops each)\n"
     ]
    },
    {
     "data": {
      "text/plain": [
       "<TimeitResult : 159 ms ± 1.27 ms per loop (mean ± std. dev. of 7 runs, 10 loops each)>"
      ]
     },
     "execution_count": 11,
     "metadata": {},
     "output_type": "execute_result"
    }
   ],
   "source": [
    "%timeit -o fcs.DFT_recursive(x=data, scale=None)"
   ]
  },
  {
   "cell_type": "code",
   "execution_count": 12,
   "metadata": {},
   "outputs": [
    {
     "name": "stdout",
     "output_type": "stream",
     "text": [
      "240 µs ± 6.51 µs per loop (mean ± std. dev. of 7 runs, 1000 loops each)\n"
     ]
    },
    {
     "data": {
      "text/plain": [
       "<TimeitResult : 240 µs ± 6.51 µs per loop (mean ± std. dev. of 7 runs, 1000 loops each)>"
      ]
     },
     "execution_count": 12,
     "metadata": {},
     "output_type": "execute_result"
    }
   ],
   "source": [
    "%timeit -o sp.fft.fft(x=data, norm=None)"
   ]
  },
  {
   "cell_type": "code",
   "execution_count": 14,
   "metadata": {},
   "outputs": [
    {
     "name": "stdout",
     "output_type": "stream",
     "text": [
      "166 ms ± 1.51 ms per loop (mean ± std. dev. of 7 runs, 10 loops each)\n"
     ]
    },
    {
     "data": {
      "text/plain": [
       "<TimeitResult : 166 ms ± 1.51 ms per loop (mean ± std. dev. of 7 runs, 10 loops each)>"
      ]
     },
     "execution_count": 14,
     "metadata": {},
     "output_type": "execute_result"
    }
   ],
   "source": [
    "%timeit -o fcs.IDFT_recursive(X=data+1j*data, scale=None)"
   ]
  },
  {
   "cell_type": "code",
   "execution_count": 15,
   "metadata": {},
   "outputs": [
    {
     "name": "stdout",
     "output_type": "stream",
     "text": [
      "452 µs ± 3.85 µs per loop (mean ± std. dev. of 7 runs, 1000 loops each)\n"
     ]
    },
    {
     "data": {
      "text/plain": [
       "<TimeitResult : 452 µs ± 3.85 µs per loop (mean ± std. dev. of 7 runs, 1000 loops each)>"
      ]
     },
     "execution_count": 15,
     "metadata": {},
     "output_type": "execute_result"
    }
   ],
   "source": [
    "%timeit -o sp.fft.ifft(x=data+1j*data, norm=None)"
   ]
  },
  {
   "cell_type": "code",
   "execution_count": null,
   "metadata": {},
   "outputs": [],
   "source": []
  }
 ],
 "metadata": {
  "kernelspec": {
   "display_name": "Python 3",
   "language": "python",
   "name": "python3"
  },
  "language_info": {
   "codemirror_mode": {
    "name": "ipython",
    "version": 3
   },
   "file_extension": ".py",
   "mimetype": "text/x-python",
   "name": "python",
   "nbconvert_exporter": "python",
   "pygments_lexer": "ipython3",
   "version": "3.7.4"
  }
 },
 "nbformat": 4,
 "nbformat_minor": 4
}
