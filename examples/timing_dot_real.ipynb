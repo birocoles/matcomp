{
 "cells": [
  {
   "cell_type": "markdown",
   "metadata": {},
   "source": [
    "# Timing dot_real functions"
   ]
  },
  {
   "cell_type": "markdown",
   "metadata": {},
   "source": [
    "This code uses the magic function `%timeit`<sup> 1 2 </sup> to measure the excetution time of functions `dot_real_dumb` , `dot_real_numpy`, `dot_real_numba` and `dot_real_parallel`.\n",
    "\n",
    "* <sup> 1 </sup>[Profiling and Timing Code - excerpt from the Python Data Science Handbook by Jake VanderPlas](https://jakevdp.github.io/PythonDataScienceHandbook/01.07-timing-and-profiling.html)\n",
    "\n",
    "* <sup> 2 </sup>[Python documentation - timeit — Measure execution time of small code snippets](https://docs.python.org/3/library/timeit.html)"
   ]
  },
  {
   "cell_type": "code",
   "execution_count": 1,
   "metadata": {},
   "outputs": [],
   "source": [
    "import matplotlib.pyplot as plt\n",
    "import numpy as np\n",
    "import functions as fcs\n",
    "from tqdm.notebook import tqdm as tq # produce the progress bar"
   ]
  },
  {
   "cell_type": "code",
   "execution_count": 2,
   "metadata": {},
   "outputs": [],
   "source": [
    "# number of elements forming the vectors\n",
    "N = np.array([100, 300, 500, 700, 1000, 1500, 2000, 5000, 10000])"
   ]
  },
  {
   "cell_type": "code",
   "execution_count": 3,
   "metadata": {},
   "outputs": [
    {
     "data": {
      "application/vnd.jupyter.widget-view+json": {
       "model_id": "7f51d4d3d667405f9e6220a519946ec5",
       "version_major": 2,
       "version_minor": 0
      },
      "text/plain": [
       "HBox(children=(FloatProgress(value=0.0, max=9.0), HTML(value='')))"
      ]
     },
     "metadata": {},
     "output_type": "display_data"
    },
    {
     "name": "stdout",
     "output_type": "stream",
     "text": [
      "58.9 µs ± 5.33 µs per loop (mean ± std. dev. of 100 runs, 100 loops each)\n",
      "11.3 µs ± 1.6 µs per loop (mean ± std. dev. of 100 runs, 100 loops each)\n",
      "The slowest run took 3474.87 times longer than the fastest. This could mean that an intermediate result is being cached.\n",
      "22.4 µs ± 216 µs per loop (mean ± std. dev. of 100 runs, 100 loops each)\n",
      "The slowest run took 207.58 times longer than the fastest. This could mean that an intermediate result is being cached.\n",
      "167 µs ± 519 µs per loop (mean ± std. dev. of 100 runs, 100 loops each)\n",
      "173 µs ± 24.9 µs per loop (mean ± std. dev. of 100 runs, 100 loops each)\n",
      "11.2 µs ± 479 ns per loop (mean ± std. dev. of 100 runs, 100 loops each)\n",
      "The slowest run took 4.33 times longer than the fastest. This could mean that an intermediate result is being cached.\n",
      "866 ns ± 271 ns per loop (mean ± std. dev. of 100 runs, 100 loops each)\n",
      "The slowest run took 5.41 times longer than the fastest. This could mean that an intermediate result is being cached.\n",
      "114 µs ± 24.8 µs per loop (mean ± std. dev. of 100 runs, 100 loops each)\n",
      "283 µs ± 24.6 µs per loop (mean ± std. dev. of 100 runs, 100 loops each)\n",
      "11.8 µs ± 482 ns per loop (mean ± std. dev. of 100 runs, 100 loops each)\n",
      "1.05 µs ± 248 ns per loop (mean ± std. dev. of 100 runs, 100 loops each)\n",
      "The slowest run took 5.95 times longer than the fastest. This could mean that an intermediate result is being cached.\n",
      "115 µs ± 24.8 µs per loop (mean ± std. dev. of 100 runs, 100 loops each)\n",
      "393 µs ± 29.1 µs per loop (mean ± std. dev. of 100 runs, 100 loops each)\n",
      "12.9 µs ± 556 ns per loop (mean ± std. dev. of 100 runs, 100 loops each)\n",
      "1.29 µs ± 253 ns per loop (mean ± std. dev. of 100 runs, 100 loops each)\n",
      "The slowest run took 5.26 times longer than the fastest. This could mean that an intermediate result is being cached.\n",
      "114 µs ± 23.6 µs per loop (mean ± std. dev. of 100 runs, 100 loops each)\n",
      "576 µs ± 23.1 µs per loop (mean ± std. dev. of 100 runs, 100 loops each)\n",
      "12.5 µs ± 620 ns per loop (mean ± std. dev. of 100 runs, 100 loops each)\n",
      "1.62 µs ± 278 ns per loop (mean ± std. dev. of 100 runs, 100 loops each)\n",
      "The slowest run took 4.80 times longer than the fastest. This could mean that an intermediate result is being cached.\n",
      "114 µs ± 24 µs per loop (mean ± std. dev. of 100 runs, 100 loops each)\n",
      "848 µs ± 25.4 µs per loop (mean ± std. dev. of 100 runs, 100 loops each)\n",
      "13.9 µs ± 1.44 µs per loop (mean ± std. dev. of 100 runs, 100 loops each)\n",
      "2.04 µs ± 301 ns per loop (mean ± std. dev. of 100 runs, 100 loops each)\n",
      "The slowest run took 4.39 times longer than the fastest. This could mean that an intermediate result is being cached.\n",
      "113 µs ± 24.3 µs per loop (mean ± std. dev. of 100 runs, 100 loops each)\n",
      "1.22 ms ± 86.2 µs per loop (mean ± std. dev. of 100 runs, 100 loops each)\n",
      "13.9 µs ± 785 ns per loop (mean ± std. dev. of 100 runs, 100 loops each)\n",
      "2.98 µs ± 484 ns per loop (mean ± std. dev. of 100 runs, 100 loops each)\n",
      "The slowest run took 4.62 times longer than the fastest. This could mean that an intermediate result is being cached.\n",
      "113 µs ± 23.3 µs per loop (mean ± std. dev. of 100 runs, 100 loops each)\n",
      "3 ms ± 168 µs per loop (mean ± std. dev. of 100 runs, 100 loops each)\n",
      "18 µs ± 1.25 µs per loop (mean ± std. dev. of 100 runs, 100 loops each)\n",
      "6.11 µs ± 911 ns per loop (mean ± std. dev. of 100 runs, 100 loops each)\n",
      "The slowest run took 9.49 times longer than the fastest. This could mean that an intermediate result is being cached.\n",
      "114 µs ± 34.7 µs per loop (mean ± std. dev. of 100 runs, 100 loops each)\n",
      "6.08 ms ± 243 µs per loop (mean ± std. dev. of 100 runs, 100 loops each)\n",
      "25.7 µs ± 2.96 µs per loop (mean ± std. dev. of 100 runs, 100 loops each)\n",
      "11.6 µs ± 577 ns per loop (mean ± std. dev. of 100 runs, 100 loops each)\n",
      "The slowest run took 4.87 times longer than the fastest. This could mean that an intermediate result is being cached.\n",
      "95.1 µs ± 31 µs per loop (mean ± std. dev. of 100 runs, 100 loops each)\n",
      "\n"
     ]
    }
   ],
   "source": [
    "list_time_dumb = []\n",
    "list_time_numpy = []\n",
    "list_time_numba = []\n",
    "list_time_parallel = []\n",
    "for Ni in tq(N):\n",
    "    vector = np.ones(Ni)\n",
    "    # dot_real_dumb\n",
    "    time = %timeit -o -n 100 -r 100 fcs.dot_real_dumb(vector, vector)\n",
    "    list_time_dumb.append(time.average)\n",
    "    # dot_real_numpy\n",
    "    time = %timeit -o -n 100 -r 100 fcs.dot_real_numpy(vector, vector)\n",
    "    list_time_numpy.append(time.average)\n",
    "    # dot_real_numba\n",
    "    time = %timeit -o -n 100 -r 100 fcs.dot_real_numba(vector, vector)\n",
    "    list_time_numba.append(time.average)\n",
    "    # dot_real_parallel\n",
    "    time = %timeit -o -n 100 -r 100 fcs.dot_real_parallel(vector, vector)\n",
    "    list_time_parallel.append(time.average)"
   ]
  },
  {
   "cell_type": "code",
   "execution_count": 4,
   "metadata": {},
   "outputs": [],
   "source": [
    "list_time_dumb = np.array(list_time_dumb)\n",
    "list_time_numpy = np.array(list_time_numpy)\n",
    "list_time_numba = np.array(list_time_numba)\n",
    "list_time_parallel = np.array(list_time_parallel)"
   ]
  },
  {
   "cell_type": "code",
   "execution_count": 5,
   "metadata": {},
   "outputs": [
    {
     "data": {
      "image/png": "[encoded data removed]",
      "text/plain": [
       "<Figure size 720x504 with 1 Axes>"
      ]
     },
     "metadata": {
      "needs_background": "light"
     },
     "output_type": "display_data"
    }
   ],
   "source": [
    "plt.figure(figsize=(10,7))\n",
    "plt.plot(N, list_time_dumb*1e6, 'bo-', label = 'dumb')\n",
    "plt.plot(N, list_time_numpy*1e6, 'ro-', label = 'numpy')\n",
    "plt.plot(N, list_time_numba*1e6, 'go-', label = 'numba')\n",
    "plt.plot(N, list_time_parallel*1e6, 'ko-', label = 'parallel')\n",
    "plt.legend(loc = 'best', fontsize = 14)\n",
    "plt.xticks(fontsize = 12)\n",
    "plt.yticks(fontsize = 12)\n",
    "plt.xlabel('N', fontsize = 16)\n",
    "plt.ylabel('Time ($\\mu$s)', fontsize = 16)\n",
    "plt.yscale('log')\n",
    "plt.grid()\n",
    "plt.show()"
   ]
  },
  {
   "cell_type": "code",
   "execution_count": null,
   "metadata": {},
   "outputs": [],
   "source": []
  }
 ],
 "metadata": {
  "kernelspec": {
   "display_name": "Python 3",
   "language": "python",
   "name": "python3"
  },
  "language_info": {
   "codemirror_mode": {
    "name": "ipython",
    "version": 3
   },
   "file_extension": ".py",
   "mimetype": "text/x-python",
   "name": "python",
   "nbconvert_exporter": "python",
   "pygments_lexer": "ipython3",
   "version": "3.7.4"
  }
 },
 "nbformat": 4,
 "nbformat_minor": 4
}
